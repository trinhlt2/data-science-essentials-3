{
 "cells": [
  {
   "cell_type": "markdown",
   "metadata": {},
   "source": [
    "> For the task of week five, we will want to get more that just the Tennessee data. Make a copy of your notebook and then remove the `TENNESSEE` filters for the cancer, heart attack, and income data. **Be sure to use state and county for any aggregations.**\n",
    "\n",
    "> You can remove the cells for creating visualizations from this new notebook"
   ]
  },
  {
   "cell_type": "markdown",
   "metadata": {},
   "source": [
    "# Week one - modified"
   ]
  },
  {
   "cell_type": "code",
   "execution_count": 1,
   "metadata": {},
   "outputs": [],
   "source": [
    "import pandas as pd"
   ]
  },
  {
   "cell_type": "markdown",
   "metadata": {},
   "source": [
    "### Create a DataFrame, `ha_costs_df`, from the `mmd_heart_attack_data.csv` file."
   ]
  },
  {
   "cell_type": "code",
   "execution_count": 2,
   "metadata": {},
   "outputs": [],
   "source": [
    "ha_costs_df = pd.read_csv(\"../data/mmd_heart_attack_data.csv\")"
   ]
  },
  {
   "cell_type": "markdown",
   "metadata": {},
   "source": [
    "#### Examine the first 5 rows"
   ]
  },
  {
   "cell_type": "code",
   "execution_count": 3,
   "metadata": {
    "scrolled": true
   },
   "outputs": [
    {
     "data": {
      "text/html": [
       "<div>\n",
       "<style scoped>\n",
       "    .dataframe tbody tr th:only-of-type {\n",
       "        vertical-align: middle;\n",
       "    }\n",
       "\n",
       "    .dataframe tbody tr th {\n",
       "        vertical-align: top;\n",
       "    }\n",
       "\n",
       "    .dataframe thead th {\n",
       "        text-align: right;\n",
       "    }\n",
       "</style>\n",
       "<table border=\"1\" class=\"dataframe\">\n",
       "  <thead>\n",
       "    <tr style=\"text-align: right;\">\n",
       "      <th></th>\n",
       "      <th>year</th>\n",
       "      <th>geography</th>\n",
       "      <th>measure</th>\n",
       "      <th>adjustment</th>\n",
       "      <th>analysis</th>\n",
       "      <th>domain</th>\n",
       "      <th>condition</th>\n",
       "      <th>primary_sex</th>\n",
       "      <th>primary_age</th>\n",
       "      <th>primary_dual</th>\n",
       "      <th>fips</th>\n",
       "      <th>county</th>\n",
       "      <th>state</th>\n",
       "      <th>urban</th>\n",
       "      <th>primary_race</th>\n",
       "      <th>primary_denominator</th>\n",
       "      <th>analysis_value</th>\n",
       "    </tr>\n",
       "  </thead>\n",
       "  <tbody>\n",
       "    <tr>\n",
       "      <th>0</th>\n",
       "      <td>2017</td>\n",
       "      <td>County</td>\n",
       "      <td>Average total cost</td>\n",
       "      <td>Unsmoothed actual</td>\n",
       "      <td>Base measure</td>\n",
       "      <td>Primary chronic conditions</td>\n",
       "      <td>Acute myocardial infarction</td>\n",
       "      <td>All</td>\n",
       "      <td>All</td>\n",
       "      <td>Dual &amp; non-dual</td>\n",
       "      <td>1001</td>\n",
       "      <td>Autauga County</td>\n",
       "      <td>ALABAMA</td>\n",
       "      <td>Urban</td>\n",
       "      <td>All</td>\n",
       "      <td>undefined</td>\n",
       "      <td>40470</td>\n",
       "    </tr>\n",
       "    <tr>\n",
       "      <th>1</th>\n",
       "      <td>2017</td>\n",
       "      <td>County</td>\n",
       "      <td>Average total cost</td>\n",
       "      <td>Unsmoothed actual</td>\n",
       "      <td>Base measure</td>\n",
       "      <td>Primary chronic conditions</td>\n",
       "      <td>Acute myocardial infarction</td>\n",
       "      <td>All</td>\n",
       "      <td>All</td>\n",
       "      <td>Dual &amp; non-dual</td>\n",
       "      <td>1003</td>\n",
       "      <td>Baldwin County</td>\n",
       "      <td>ALABAMA</td>\n",
       "      <td>Rural</td>\n",
       "      <td>All</td>\n",
       "      <td>undefined</td>\n",
       "      <td>36615</td>\n",
       "    </tr>\n",
       "    <tr>\n",
       "      <th>2</th>\n",
       "      <td>2017</td>\n",
       "      <td>County</td>\n",
       "      <td>Average total cost</td>\n",
       "      <td>Unsmoothed actual</td>\n",
       "      <td>Base measure</td>\n",
       "      <td>Primary chronic conditions</td>\n",
       "      <td>Acute myocardial infarction</td>\n",
       "      <td>All</td>\n",
       "      <td>All</td>\n",
       "      <td>Dual &amp; non-dual</td>\n",
       "      <td>1005</td>\n",
       "      <td>Barbour County</td>\n",
       "      <td>ALABAMA</td>\n",
       "      <td>Rural</td>\n",
       "      <td>All</td>\n",
       "      <td>undefined</td>\n",
       "      <td>46509</td>\n",
       "    </tr>\n",
       "    <tr>\n",
       "      <th>3</th>\n",
       "      <td>2017</td>\n",
       "      <td>County</td>\n",
       "      <td>Average total cost</td>\n",
       "      <td>Unsmoothed actual</td>\n",
       "      <td>Base measure</td>\n",
       "      <td>Primary chronic conditions</td>\n",
       "      <td>Acute myocardial infarction</td>\n",
       "      <td>All</td>\n",
       "      <td>All</td>\n",
       "      <td>Dual &amp; non-dual</td>\n",
       "      <td>1007</td>\n",
       "      <td>Bibb County</td>\n",
       "      <td>ALABAMA</td>\n",
       "      <td>Urban</td>\n",
       "      <td>All</td>\n",
       "      <td>undefined</td>\n",
       "      <td>42949</td>\n",
       "    </tr>\n",
       "    <tr>\n",
       "      <th>4</th>\n",
       "      <td>2017</td>\n",
       "      <td>County</td>\n",
       "      <td>Average total cost</td>\n",
       "      <td>Unsmoothed actual</td>\n",
       "      <td>Base measure</td>\n",
       "      <td>Primary chronic conditions</td>\n",
       "      <td>Acute myocardial infarction</td>\n",
       "      <td>All</td>\n",
       "      <td>All</td>\n",
       "      <td>Dual &amp; non-dual</td>\n",
       "      <td>1009</td>\n",
       "      <td>Blount County</td>\n",
       "      <td>ALABAMA</td>\n",
       "      <td>Urban</td>\n",
       "      <td>All</td>\n",
       "      <td>undefined</td>\n",
       "      <td>50067</td>\n",
       "    </tr>\n",
       "  </tbody>\n",
       "</table>\n",
       "</div>"
      ],
      "text/plain": [
       "   year geography             measure         adjustment      analysis  \\\n",
       "0  2017    County  Average total cost  Unsmoothed actual  Base measure   \n",
       "1  2017    County  Average total cost  Unsmoothed actual  Base measure   \n",
       "2  2017    County  Average total cost  Unsmoothed actual  Base measure   \n",
       "3  2017    County  Average total cost  Unsmoothed actual  Base measure   \n",
       "4  2017    County  Average total cost  Unsmoothed actual  Base measure   \n",
       "\n",
       "                       domain                    condition primary_sex  \\\n",
       "0  Primary chronic conditions  Acute myocardial infarction         All   \n",
       "1  Primary chronic conditions  Acute myocardial infarction         All   \n",
       "2  Primary chronic conditions  Acute myocardial infarction         All   \n",
       "3  Primary chronic conditions  Acute myocardial infarction         All   \n",
       "4  Primary chronic conditions  Acute myocardial infarction         All   \n",
       "\n",
       "  primary_age     primary_dual  fips          county    state  urban  \\\n",
       "0         All  Dual & non-dual  1001  Autauga County  ALABAMA  Urban   \n",
       "1         All  Dual & non-dual  1003  Baldwin County  ALABAMA  Rural   \n",
       "2         All  Dual & non-dual  1005  Barbour County  ALABAMA  Rural   \n",
       "3         All  Dual & non-dual  1007     Bibb County  ALABAMA  Urban   \n",
       "4         All  Dual & non-dual  1009   Blount County  ALABAMA  Urban   \n",
       "\n",
       "  primary_race primary_denominator  analysis_value  \n",
       "0          All           undefined           40470  \n",
       "1          All           undefined           36615  \n",
       "2          All           undefined           46509  \n",
       "3          All           undefined           42949  \n",
       "4          All           undefined           50067  "
      ]
     },
     "execution_count": 3,
     "metadata": {},
     "output_type": "execute_result"
    }
   ],
   "source": [
    "ha_costs_df.head(5)"
   ]
  },
  {
   "cell_type": "markdown",
   "metadata": {},
   "source": [
    "#### Examine the last 5 rows"
   ]
  },
  {
   "cell_type": "code",
   "execution_count": 4,
   "metadata": {},
   "outputs": [
    {
     "data": {
      "text/html": [
       "<div>\n",
       "<style scoped>\n",
       "    .dataframe tbody tr th:only-of-type {\n",
       "        vertical-align: middle;\n",
       "    }\n",
       "\n",
       "    .dataframe tbody tr th {\n",
       "        vertical-align: top;\n",
       "    }\n",
       "\n",
       "    .dataframe thead th {\n",
       "        text-align: right;\n",
       "    }\n",
       "</style>\n",
       "<table border=\"1\" class=\"dataframe\">\n",
       "  <thead>\n",
       "    <tr style=\"text-align: right;\">\n",
       "      <th></th>\n",
       "      <th>year</th>\n",
       "      <th>geography</th>\n",
       "      <th>measure</th>\n",
       "      <th>adjustment</th>\n",
       "      <th>analysis</th>\n",
       "      <th>domain</th>\n",
       "      <th>condition</th>\n",
       "      <th>primary_sex</th>\n",
       "      <th>primary_age</th>\n",
       "      <th>primary_dual</th>\n",
       "      <th>fips</th>\n",
       "      <th>county</th>\n",
       "      <th>state</th>\n",
       "      <th>urban</th>\n",
       "      <th>primary_race</th>\n",
       "      <th>primary_denominator</th>\n",
       "      <th>analysis_value</th>\n",
       "    </tr>\n",
       "  </thead>\n",
       "  <tbody>\n",
       "    <tr>\n",
       "      <th>2651</th>\n",
       "      <td>2017</td>\n",
       "      <td>County</td>\n",
       "      <td>Average total cost</td>\n",
       "      <td>Unsmoothed actual</td>\n",
       "      <td>Base measure</td>\n",
       "      <td>Primary chronic conditions</td>\n",
       "      <td>Acute myocardial infarction</td>\n",
       "      <td>All</td>\n",
       "      <td>All</td>\n",
       "      <td>Dual &amp; non-dual</td>\n",
       "      <td>72097</td>\n",
       "      <td>Mayaguez Municipio</td>\n",
       "      <td>PUERTO RICO</td>\n",
       "      <td>Urban</td>\n",
       "      <td>All</td>\n",
       "      <td>undefined</td>\n",
       "      <td>28128</td>\n",
       "    </tr>\n",
       "    <tr>\n",
       "      <th>2652</th>\n",
       "      <td>2017</td>\n",
       "      <td>County</td>\n",
       "      <td>Average total cost</td>\n",
       "      <td>Unsmoothed actual</td>\n",
       "      <td>Base measure</td>\n",
       "      <td>Primary chronic conditions</td>\n",
       "      <td>Acute myocardial infarction</td>\n",
       "      <td>All</td>\n",
       "      <td>All</td>\n",
       "      <td>Dual &amp; non-dual</td>\n",
       "      <td>72113</td>\n",
       "      <td>Ponce Municipio</td>\n",
       "      <td>PUERTO RICO</td>\n",
       "      <td>Urban</td>\n",
       "      <td>All</td>\n",
       "      <td>undefined</td>\n",
       "      <td>26403</td>\n",
       "    </tr>\n",
       "    <tr>\n",
       "      <th>2653</th>\n",
       "      <td>2017</td>\n",
       "      <td>County</td>\n",
       "      <td>Average total cost</td>\n",
       "      <td>Unsmoothed actual</td>\n",
       "      <td>Base measure</td>\n",
       "      <td>Primary chronic conditions</td>\n",
       "      <td>Acute myocardial infarction</td>\n",
       "      <td>All</td>\n",
       "      <td>All</td>\n",
       "      <td>Dual &amp; non-dual</td>\n",
       "      <td>72125</td>\n",
       "      <td>San German Municipio</td>\n",
       "      <td>PUERTO RICO</td>\n",
       "      <td>Urban</td>\n",
       "      <td>All</td>\n",
       "      <td>undefined</td>\n",
       "      <td>26398</td>\n",
       "    </tr>\n",
       "    <tr>\n",
       "      <th>2654</th>\n",
       "      <td>2017</td>\n",
       "      <td>County</td>\n",
       "      <td>Average total cost</td>\n",
       "      <td>Unsmoothed actual</td>\n",
       "      <td>Base measure</td>\n",
       "      <td>Primary chronic conditions</td>\n",
       "      <td>Acute myocardial infarction</td>\n",
       "      <td>All</td>\n",
       "      <td>All</td>\n",
       "      <td>Dual &amp; non-dual</td>\n",
       "      <td>72127</td>\n",
       "      <td>San Juan Municipio</td>\n",
       "      <td>PUERTO RICO</td>\n",
       "      <td>Urban</td>\n",
       "      <td>All</td>\n",
       "      <td>undefined</td>\n",
       "      <td>36599</td>\n",
       "    </tr>\n",
       "    <tr>\n",
       "      <th>2655</th>\n",
       "      <td>2017</td>\n",
       "      <td>County</td>\n",
       "      <td>Average total cost</td>\n",
       "      <td>Unsmoothed actual</td>\n",
       "      <td>Base measure</td>\n",
       "      <td>Primary chronic conditions</td>\n",
       "      <td>Acute myocardial infarction</td>\n",
       "      <td>All</td>\n",
       "      <td>All</td>\n",
       "      <td>Dual &amp; non-dual</td>\n",
       "      <td>72139</td>\n",
       "      <td>Trujillo Alto Municipio</td>\n",
       "      <td>PUERTO RICO</td>\n",
       "      <td>Urban</td>\n",
       "      <td>All</td>\n",
       "      <td>undefined</td>\n",
       "      <td>26676</td>\n",
       "    </tr>\n",
       "  </tbody>\n",
       "</table>\n",
       "</div>"
      ],
      "text/plain": [
       "      year geography             measure         adjustment      analysis  \\\n",
       "2651  2017    County  Average total cost  Unsmoothed actual  Base measure   \n",
       "2652  2017    County  Average total cost  Unsmoothed actual  Base measure   \n",
       "2653  2017    County  Average total cost  Unsmoothed actual  Base measure   \n",
       "2654  2017    County  Average total cost  Unsmoothed actual  Base measure   \n",
       "2655  2017    County  Average total cost  Unsmoothed actual  Base measure   \n",
       "\n",
       "                          domain                    condition primary_sex  \\\n",
       "2651  Primary chronic conditions  Acute myocardial infarction         All   \n",
       "2652  Primary chronic conditions  Acute myocardial infarction         All   \n",
       "2653  Primary chronic conditions  Acute myocardial infarction         All   \n",
       "2654  Primary chronic conditions  Acute myocardial infarction         All   \n",
       "2655  Primary chronic conditions  Acute myocardial infarction         All   \n",
       "\n",
       "     primary_age     primary_dual   fips                   county  \\\n",
       "2651         All  Dual & non-dual  72097       Mayaguez Municipio   \n",
       "2652         All  Dual & non-dual  72113          Ponce Municipio   \n",
       "2653         All  Dual & non-dual  72125     San German Municipio   \n",
       "2654         All  Dual & non-dual  72127       San Juan Municipio   \n",
       "2655         All  Dual & non-dual  72139  Trujillo Alto Municipio   \n",
       "\n",
       "            state  urban primary_race primary_denominator  analysis_value  \n",
       "2651  PUERTO RICO  Urban          All           undefined           28128  \n",
       "2652  PUERTO RICO  Urban          All           undefined           26403  \n",
       "2653  PUERTO RICO  Urban          All           undefined           26398  \n",
       "2654  PUERTO RICO  Urban          All           undefined           36599  \n",
       "2655  PUERTO RICO  Urban          All           undefined           26676  "
      ]
     },
     "execution_count": 4,
     "metadata": {},
     "output_type": "execute_result"
    }
   ],
   "source": [
    "ha_costs_df.tail(5)"
   ]
  },
  {
   "cell_type": "markdown",
   "metadata": {},
   "source": [
    "#### Check the data types of each column by using `.info`"
   ]
  },
  {
   "cell_type": "code",
   "execution_count": 5,
   "metadata": {},
   "outputs": [
    {
     "name": "stdout",
     "output_type": "stream",
     "text": [
      "<class 'pandas.core.frame.DataFrame'>\n",
      "RangeIndex: 2656 entries, 0 to 2655\n",
      "Data columns (total 17 columns):\n",
      " #   Column               Non-Null Count  Dtype \n",
      "---  ------               --------------  ----- \n",
      " 0   year                 2656 non-null   int64 \n",
      " 1   geography            2656 non-null   object\n",
      " 2   measure              2656 non-null   object\n",
      " 3   adjustment           2656 non-null   object\n",
      " 4   analysis             2656 non-null   object\n",
      " 5   domain               2656 non-null   object\n",
      " 6   condition            2656 non-null   object\n",
      " 7   primary_sex          2656 non-null   object\n",
      " 8   primary_age          2656 non-null   object\n",
      " 9   primary_dual         2656 non-null   object\n",
      " 10  fips                 2656 non-null   int64 \n",
      " 11  county               2656 non-null   object\n",
      " 12  state                2656 non-null   object\n",
      " 13  urban                2656 non-null   object\n",
      " 14  primary_race         2656 non-null   object\n",
      " 15  primary_denominator  2656 non-null   object\n",
      " 16  analysis_value       2656 non-null   int64 \n",
      "dtypes: int64(3), object(14)\n",
      "memory usage: 352.9+ KB\n"
     ]
    }
   ],
   "source": [
    "ha_costs_df.info()"
   ]
  },
  {
   "cell_type": "markdown",
   "metadata": {},
   "source": [
    "### Create a DataFrame, `cancer_costs_df`, from the `mmd_cancer_data.csv` file."
   ]
  },
  {
   "cell_type": "code",
   "execution_count": 6,
   "metadata": {},
   "outputs": [],
   "source": [
    "cancer_costs_df=pd.read_csv('../data/mmd_cancer_data.csv')"
   ]
  },
  {
   "cell_type": "markdown",
   "metadata": {},
   "source": [
    "#### Look at the head and tail of the DataFrame."
   ]
  },
  {
   "cell_type": "code",
   "execution_count": 7,
   "metadata": {},
   "outputs": [
    {
     "data": {
      "text/html": [
       "<div>\n",
       "<style scoped>\n",
       "    .dataframe tbody tr th:only-of-type {\n",
       "        vertical-align: middle;\n",
       "    }\n",
       "\n",
       "    .dataframe tbody tr th {\n",
       "        vertical-align: top;\n",
       "    }\n",
       "\n",
       "    .dataframe thead th {\n",
       "        text-align: right;\n",
       "    }\n",
       "</style>\n",
       "<table border=\"1\" class=\"dataframe\">\n",
       "  <thead>\n",
       "    <tr style=\"text-align: right;\">\n",
       "      <th></th>\n",
       "      <th>year</th>\n",
       "      <th>geography</th>\n",
       "      <th>measure</th>\n",
       "      <th>adjustment</th>\n",
       "      <th>analysis</th>\n",
       "      <th>domain</th>\n",
       "      <th>condition</th>\n",
       "      <th>primary_sex</th>\n",
       "      <th>primary_age</th>\n",
       "      <th>primary_dual</th>\n",
       "      <th>fips</th>\n",
       "      <th>county</th>\n",
       "      <th>state</th>\n",
       "      <th>urban</th>\n",
       "      <th>primary_race</th>\n",
       "      <th>primary_denominator</th>\n",
       "      <th>analysis_value</th>\n",
       "    </tr>\n",
       "  </thead>\n",
       "  <tbody>\n",
       "    <tr>\n",
       "      <th>3160</th>\n",
       "      <td>2017</td>\n",
       "      <td>County</td>\n",
       "      <td>Average total cost</td>\n",
       "      <td>Unsmoothed actual</td>\n",
       "      <td>Base measure</td>\n",
       "      <td>Primary chronic conditions</td>\n",
       "      <td>Cancer, Colorectal, Breast, Prostate, Lung</td>\n",
       "      <td>All</td>\n",
       "      <td>All</td>\n",
       "      <td>Dual &amp; non-dual</td>\n",
       "      <td>72145</td>\n",
       "      <td>Vega Baja Municipio</td>\n",
       "      <td>PUERTO RICO</td>\n",
       "      <td>Urban</td>\n",
       "      <td>All</td>\n",
       "      <td>undefined</td>\n",
       "      <td>7364</td>\n",
       "    </tr>\n",
       "    <tr>\n",
       "      <th>3161</th>\n",
       "      <td>2017</td>\n",
       "      <td>County</td>\n",
       "      <td>Average total cost</td>\n",
       "      <td>Unsmoothed actual</td>\n",
       "      <td>Base measure</td>\n",
       "      <td>Primary chronic conditions</td>\n",
       "      <td>Cancer, Colorectal, Breast, Prostate, Lung</td>\n",
       "      <td>All</td>\n",
       "      <td>All</td>\n",
       "      <td>Dual &amp; non-dual</td>\n",
       "      <td>72147</td>\n",
       "      <td>Vieques Municipio</td>\n",
       "      <td>PUERTO RICO</td>\n",
       "      <td>Rural</td>\n",
       "      <td>All</td>\n",
       "      <td>undefined</td>\n",
       "      <td>9987</td>\n",
       "    </tr>\n",
       "    <tr>\n",
       "      <th>3162</th>\n",
       "      <td>2017</td>\n",
       "      <td>County</td>\n",
       "      <td>Average total cost</td>\n",
       "      <td>Unsmoothed actual</td>\n",
       "      <td>Base measure</td>\n",
       "      <td>Primary chronic conditions</td>\n",
       "      <td>Cancer, Colorectal, Breast, Prostate, Lung</td>\n",
       "      <td>All</td>\n",
       "      <td>All</td>\n",
       "      <td>Dual &amp; non-dual</td>\n",
       "      <td>72149</td>\n",
       "      <td>Villalba Municipio</td>\n",
       "      <td>PUERTO RICO</td>\n",
       "      <td>Urban</td>\n",
       "      <td>All</td>\n",
       "      <td>undefined</td>\n",
       "      <td>24127</td>\n",
       "    </tr>\n",
       "    <tr>\n",
       "      <th>3163</th>\n",
       "      <td>2017</td>\n",
       "      <td>County</td>\n",
       "      <td>Average total cost</td>\n",
       "      <td>Unsmoothed actual</td>\n",
       "      <td>Base measure</td>\n",
       "      <td>Primary chronic conditions</td>\n",
       "      <td>Cancer, Colorectal, Breast, Prostate, Lung</td>\n",
       "      <td>All</td>\n",
       "      <td>All</td>\n",
       "      <td>Dual &amp; non-dual</td>\n",
       "      <td>72151</td>\n",
       "      <td>Yabucoa Municipio</td>\n",
       "      <td>PUERTO RICO</td>\n",
       "      <td>Urban</td>\n",
       "      <td>All</td>\n",
       "      <td>undefined</td>\n",
       "      <td>8008</td>\n",
       "    </tr>\n",
       "    <tr>\n",
       "      <th>3164</th>\n",
       "      <td>2017</td>\n",
       "      <td>County</td>\n",
       "      <td>Average total cost</td>\n",
       "      <td>Unsmoothed actual</td>\n",
       "      <td>Base measure</td>\n",
       "      <td>Primary chronic conditions</td>\n",
       "      <td>Cancer, Colorectal, Breast, Prostate, Lung</td>\n",
       "      <td>All</td>\n",
       "      <td>All</td>\n",
       "      <td>Dual &amp; non-dual</td>\n",
       "      <td>72153</td>\n",
       "      <td>Yauco Municipio</td>\n",
       "      <td>PUERTO RICO</td>\n",
       "      <td>Urban</td>\n",
       "      <td>All</td>\n",
       "      <td>undefined</td>\n",
       "      <td>11171</td>\n",
       "    </tr>\n",
       "  </tbody>\n",
       "</table>\n",
       "</div>"
      ],
      "text/plain": [
       "      year geography             measure         adjustment      analysis  \\\n",
       "3160  2017    County  Average total cost  Unsmoothed actual  Base measure   \n",
       "3161  2017    County  Average total cost  Unsmoothed actual  Base measure   \n",
       "3162  2017    County  Average total cost  Unsmoothed actual  Base measure   \n",
       "3163  2017    County  Average total cost  Unsmoothed actual  Base measure   \n",
       "3164  2017    County  Average total cost  Unsmoothed actual  Base measure   \n",
       "\n",
       "                          domain                                   condition  \\\n",
       "3160  Primary chronic conditions  Cancer, Colorectal, Breast, Prostate, Lung   \n",
       "3161  Primary chronic conditions  Cancer, Colorectal, Breast, Prostate, Lung   \n",
       "3162  Primary chronic conditions  Cancer, Colorectal, Breast, Prostate, Lung   \n",
       "3163  Primary chronic conditions  Cancer, Colorectal, Breast, Prostate, Lung   \n",
       "3164  Primary chronic conditions  Cancer, Colorectal, Breast, Prostate, Lung   \n",
       "\n",
       "     primary_sex primary_age     primary_dual   fips               county  \\\n",
       "3160         All         All  Dual & non-dual  72145  Vega Baja Municipio   \n",
       "3161         All         All  Dual & non-dual  72147    Vieques Municipio   \n",
       "3162         All         All  Dual & non-dual  72149   Villalba Municipio   \n",
       "3163         All         All  Dual & non-dual  72151    Yabucoa Municipio   \n",
       "3164         All         All  Dual & non-dual  72153      Yauco Municipio   \n",
       "\n",
       "            state  urban primary_race primary_denominator  analysis_value  \n",
       "3160  PUERTO RICO  Urban          All           undefined            7364  \n",
       "3161  PUERTO RICO  Rural          All           undefined            9987  \n",
       "3162  PUERTO RICO  Urban          All           undefined           24127  \n",
       "3163  PUERTO RICO  Urban          All           undefined            8008  \n",
       "3164  PUERTO RICO  Urban          All           undefined           11171  "
      ]
     },
     "execution_count": 7,
     "metadata": {},
     "output_type": "execute_result"
    }
   ],
   "source": [
    "cancer_costs_df.head()\n",
    "cancer_costs_df.tail()"
   ]
  },
  {
   "cell_type": "markdown",
   "metadata": {},
   "source": [
    "#### Check the data types of each column by using `.info`"
   ]
  },
  {
   "cell_type": "code",
   "execution_count": 8,
   "metadata": {},
   "outputs": [
    {
     "name": "stdout",
     "output_type": "stream",
     "text": [
      "<class 'pandas.core.frame.DataFrame'>\n",
      "RangeIndex: 3165 entries, 0 to 3164\n",
      "Data columns (total 17 columns):\n",
      " #   Column               Non-Null Count  Dtype \n",
      "---  ------               --------------  ----- \n",
      " 0   year                 3165 non-null   int64 \n",
      " 1   geography            3165 non-null   object\n",
      " 2   measure              3165 non-null   object\n",
      " 3   adjustment           3165 non-null   object\n",
      " 4   analysis             3165 non-null   object\n",
      " 5   domain               3165 non-null   object\n",
      " 6   condition            3165 non-null   object\n",
      " 7   primary_sex          3165 non-null   object\n",
      " 8   primary_age          3165 non-null   object\n",
      " 9   primary_dual         3165 non-null   object\n",
      " 10  fips                 3165 non-null   int64 \n",
      " 11  county               3165 non-null   object\n",
      " 12  state                3165 non-null   object\n",
      " 13  urban                3165 non-null   object\n",
      " 14  primary_race         3165 non-null   object\n",
      " 15  primary_denominator  3165 non-null   object\n",
      " 16  analysis_value       3165 non-null   int64 \n",
      "dtypes: int64(3), object(14)\n",
      "memory usage: 420.5+ KB\n"
     ]
    }
   ],
   "source": [
    "cancer_costs_df.info()"
   ]
  },
  {
   "cell_type": "markdown",
   "metadata": {},
   "source": [
    "#### The cancer dataset have a different number of states and counties than the ha dataset. Bonus: Can you figure out which counties are missing from one of the datasets?"
   ]
  },
  {
   "cell_type": "code",
   "execution_count": 9,
   "metadata": {},
   "outputs": [
    {
     "data": {
      "text/plain": [
       "array([], dtype=object)"
      ]
     },
     "execution_count": 9,
     "metadata": {},
     "output_type": "execute_result"
    }
   ],
   "source": [
    "#To get a list of unique states from ha dataset\n",
    "unique_state_ha = ha_costs_df['state'].unique()\n",
    "#To slice only rows when state is not (~) in the list of unique state from ha dataset. unique() method at the end to list out unique results. \n",
    "cancer_costs_df.loc[~cancer_costs_df['state'].isin(unique_state_ha)]['state'].unique()"
   ]
  },
  {
   "cell_type": "markdown",
   "metadata": {},
   "source": [
    "> All states in cancer dataset appears in ha dataset"
   ]
  },
  {
   "cell_type": "code",
   "execution_count": 10,
   "metadata": {},
   "outputs": [
    {
     "data": {
      "text/plain": [
       "5               Bullock County\n",
       "68          Bethel Census Area\n",
       "69         Bristol Bay Borough\n",
       "70      Dillingham Census Area\n",
       "72              Haines Borough\n",
       "                 ...          \n",
       "3160       Vega Baja Municipio\n",
       "3161         Vieques Municipio\n",
       "3162        Villalba Municipio\n",
       "3163         Yabucoa Municipio\n",
       "3164           Yauco Municipio\n",
       "Name: county, Length: 313, dtype: object"
      ]
     },
     "execution_count": 10,
     "metadata": {},
     "output_type": "execute_result"
    }
   ],
   "source": [
    "#To get a list of unique county from ha dataset\n",
    "unique_county_ha = ha_costs_df['county'].unique()\n",
    "#To slice only rows when county is not (~) in the list of unique county from ha dataset. unique() method at the end to list out unique results. \n",
    "cancer_costs_df.loc[~cancer_costs_df['county'].isin(unique_county_ha)]['county']"
   ]
  },
  {
   "cell_type": "markdown",
   "metadata": {},
   "source": [
    "### Create a DataFrame, `income_df`, from the `irs_county_2016.csv` file."
   ]
  },
  {
   "cell_type": "code",
   "execution_count": 11,
   "metadata": {},
   "outputs": [],
   "source": [
    "income_df = pd.read_csv('../data/irs_county_2016.csv')"
   ]
  },
  {
   "cell_type": "markdown",
   "metadata": {},
   "source": [
    "#### Keep only the data that pertains to Tennessee."
   ]
  },
  {
   "cell_type": "code",
   "execution_count": 12,
   "metadata": {},
   "outputs": [
    {
     "data": {
      "text/html": [
       "<div>\n",
       "<style scoped>\n",
       "    .dataframe tbody tr th:only-of-type {\n",
       "        vertical-align: middle;\n",
       "    }\n",
       "\n",
       "    .dataframe tbody tr th {\n",
       "        vertical-align: top;\n",
       "    }\n",
       "\n",
       "    .dataframe thead th {\n",
       "        text-align: right;\n",
       "    }\n",
       "</style>\n",
       "<table border=\"1\" class=\"dataframe\">\n",
       "  <thead>\n",
       "    <tr style=\"text-align: right;\">\n",
       "      <th></th>\n",
       "      <th>STATEFIPS</th>\n",
       "      <th>STATE</th>\n",
       "      <th>COUNTYFIPS</th>\n",
       "      <th>COUNTYNAME</th>\n",
       "      <th>agi_stub</th>\n",
       "      <th>N1</th>\n",
       "      <th>mars1</th>\n",
       "      <th>MARS2</th>\n",
       "      <th>MARS4</th>\n",
       "      <th>PREP</th>\n",
       "      <th>...</th>\n",
       "      <th>N10300</th>\n",
       "      <th>A10300</th>\n",
       "      <th>N85530</th>\n",
       "      <th>A85530</th>\n",
       "      <th>N85300</th>\n",
       "      <th>A85300</th>\n",
       "      <th>N11901</th>\n",
       "      <th>A11901</th>\n",
       "      <th>N11902</th>\n",
       "      <th>A11902</th>\n",
       "    </tr>\n",
       "  </thead>\n",
       "  <tbody>\n",
       "    <tr>\n",
       "      <th>0</th>\n",
       "      <td>1</td>\n",
       "      <td>AL</td>\n",
       "      <td>0</td>\n",
       "      <td>Alabama</td>\n",
       "      <td>1</td>\n",
       "      <td>26450</td>\n",
       "      <td>14680</td>\n",
       "      <td>9740</td>\n",
       "      <td>680</td>\n",
       "      <td>17780</td>\n",
       "      <td>...</td>\n",
       "      <td>4300</td>\n",
       "      <td>9256</td>\n",
       "      <td>70</td>\n",
       "      <td>57</td>\n",
       "      <td>0</td>\n",
       "      <td>0</td>\n",
       "      <td>2590</td>\n",
       "      <td>3685</td>\n",
       "      <td>11510</td>\n",
       "      <td>35079</td>\n",
       "    </tr>\n",
       "    <tr>\n",
       "      <th>1</th>\n",
       "      <td>1</td>\n",
       "      <td>AL</td>\n",
       "      <td>0</td>\n",
       "      <td>Alabama</td>\n",
       "      <td>2</td>\n",
       "      <td>285760</td>\n",
       "      <td>217880</td>\n",
       "      <td>25170</td>\n",
       "      <td>39740</td>\n",
       "      <td>143390</td>\n",
       "      <td>...</td>\n",
       "      <td>70050</td>\n",
       "      <td>40569</td>\n",
       "      <td>0</td>\n",
       "      <td>0</td>\n",
       "      <td>0</td>\n",
       "      <td>0</td>\n",
       "      <td>22720</td>\n",
       "      <td>11109</td>\n",
       "      <td>237630</td>\n",
       "      <td>263152</td>\n",
       "    </tr>\n",
       "    <tr>\n",
       "      <th>2</th>\n",
       "      <td>1</td>\n",
       "      <td>AL</td>\n",
       "      <td>0</td>\n",
       "      <td>Alabama</td>\n",
       "      <td>3</td>\n",
       "      <td>529780</td>\n",
       "      <td>259680</td>\n",
       "      <td>80320</td>\n",
       "      <td>181410</td>\n",
       "      <td>297440</td>\n",
       "      <td>...</td>\n",
       "      <td>297770</td>\n",
       "      <td>290358</td>\n",
       "      <td>0</td>\n",
       "      <td>0</td>\n",
       "      <td>0</td>\n",
       "      <td>0</td>\n",
       "      <td>41330</td>\n",
       "      <td>40647</td>\n",
       "      <td>474140</td>\n",
       "      <td>1569463</td>\n",
       "    </tr>\n",
       "    <tr>\n",
       "      <th>3</th>\n",
       "      <td>1</td>\n",
       "      <td>AL</td>\n",
       "      <td>0</td>\n",
       "      <td>Alabama</td>\n",
       "      <td>4</td>\n",
       "      <td>495750</td>\n",
       "      <td>211100</td>\n",
       "      <td>141800</td>\n",
       "      <td>127420</td>\n",
       "      <td>272030</td>\n",
       "      <td>...</td>\n",
       "      <td>397940</td>\n",
       "      <td>983800</td>\n",
       "      <td>40</td>\n",
       "      <td>22</td>\n",
       "      <td>0</td>\n",
       "      <td>0</td>\n",
       "      <td>73880</td>\n",
       "      <td>110840</td>\n",
       "      <td>415850</td>\n",
       "      <td>1173195</td>\n",
       "    </tr>\n",
       "    <tr>\n",
       "      <th>4</th>\n",
       "      <td>1</td>\n",
       "      <td>AL</td>\n",
       "      <td>0</td>\n",
       "      <td>Alabama</td>\n",
       "      <td>5</td>\n",
       "      <td>263130</td>\n",
       "      <td>82330</td>\n",
       "      <td>137610</td>\n",
       "      <td>35760</td>\n",
       "      <td>154540</td>\n",
       "      <td>...</td>\n",
       "      <td>252940</td>\n",
       "      <td>1346083</td>\n",
       "      <td>20</td>\n",
       "      <td>27</td>\n",
       "      <td>0</td>\n",
       "      <td>0</td>\n",
       "      <td>63240</td>\n",
       "      <td>140446</td>\n",
       "      <td>194790</td>\n",
       "      <td>542205</td>\n",
       "    </tr>\n",
       "  </tbody>\n",
       "</table>\n",
       "<p>5 rows × 148 columns</p>\n",
       "</div>"
      ],
      "text/plain": [
       "   STATEFIPS STATE  COUNTYFIPS COUNTYNAME  agi_stub      N1   mars1   MARS2  \\\n",
       "0          1    AL           0    Alabama         1   26450   14680    9740   \n",
       "1          1    AL           0    Alabama         2  285760  217880   25170   \n",
       "2          1    AL           0    Alabama         3  529780  259680   80320   \n",
       "3          1    AL           0    Alabama         4  495750  211100  141800   \n",
       "4          1    AL           0    Alabama         5  263130   82330  137610   \n",
       "\n",
       "    MARS4    PREP  ...  N10300   A10300  N85530  A85530  N85300  A85300  \\\n",
       "0     680   17780  ...    4300     9256      70      57       0       0   \n",
       "1   39740  143390  ...   70050    40569       0       0       0       0   \n",
       "2  181410  297440  ...  297770   290358       0       0       0       0   \n",
       "3  127420  272030  ...  397940   983800      40      22       0       0   \n",
       "4   35760  154540  ...  252940  1346083      20      27       0       0   \n",
       "\n",
       "   N11901  A11901  N11902   A11902  \n",
       "0    2590    3685   11510    35079  \n",
       "1   22720   11109  237630   263152  \n",
       "2   41330   40647  474140  1569463  \n",
       "3   73880  110840  415850  1173195  \n",
       "4   63240  140446  194790   542205  \n",
       "\n",
       "[5 rows x 148 columns]"
      ]
     },
     "execution_count": 12,
     "metadata": {},
     "output_type": "execute_result"
    }
   ],
   "source": [
    "income_df.head()"
   ]
  },
  {
   "cell_type": "markdown",
   "metadata": {},
   "source": [
    "#### Print the shape."
   ]
  },
  {
   "cell_type": "code",
   "execution_count": 13,
   "metadata": {},
   "outputs": [
    {
     "data": {
      "text/plain": [
       "(25536, 148)"
      ]
     },
     "execution_count": 13,
     "metadata": {},
     "output_type": "execute_result"
    }
   ],
   "source": [
    "income_df.shape"
   ]
  },
  {
   "cell_type": "markdown",
   "metadata": {},
   "source": [
    "#### To look for all of the name of columns, call out values"
   ]
  },
  {
   "cell_type": "code",
   "execution_count": 14,
   "metadata": {},
   "outputs": [
    {
     "data": {
      "text/plain": [
       "array(['STATEFIPS', 'STATE', 'COUNTYFIPS', 'COUNTYNAME', 'agi_stub', 'N1',\n",
       "       'mars1', 'MARS2', 'MARS4', 'PREP', 'N2', 'NUMDEP', 'TOTAL_VITA',\n",
       "       'VITA', 'TCE', 'VITA_EIC', 'RAL', 'RAC', 'ELDERLY', 'A00100',\n",
       "       'N02650', 'A02650', 'N00200', 'A00200', 'N00300', 'A00300',\n",
       "       'N00600', 'A00600', 'N00650', 'A00650', 'N00700', 'A00700',\n",
       "       'N00900', 'A00900', 'N01000', 'A01000', 'N01400', 'A01400',\n",
       "       'N01700', 'A01700', 'SCHF', 'N02300', 'A02300', 'N02500', 'A02500',\n",
       "       'N26270', 'A26270', 'N02900', 'A02900', 'N03220', 'A03220',\n",
       "       'N03300', 'A03300', 'N03270', 'A03270', 'N03150', 'A03150',\n",
       "       'N03210', 'A03210', 'N03230', 'A03230', 'N03240', 'A03240',\n",
       "       'N04470', 'A04470', 'A00101', 'N17000', 'A17000', 'N18425',\n",
       "       'A18425', 'N18450', 'A18450', 'N18500', 'A18500', 'N18800',\n",
       "       'A18800', 'N18300', 'A18300', 'N19300', 'A19300', 'N19500',\n",
       "       'A19500', 'N19530', 'A19530', 'N19550', 'A19550', 'N19570',\n",
       "       'A19570', 'N19700', 'A19700', 'N20800', 'A20800', 'N21020',\n",
       "       'A21020', 'N04800', 'A04800', 'N05800', 'A05800', 'N09600',\n",
       "       'A09600', 'N05780', 'A05780', 'N07100', 'A07100', 'N07300',\n",
       "       'A07300', 'N07180', 'A07180', 'N07230', 'A07230', 'N07240',\n",
       "       'A07240', 'N07220', 'A07220', 'N07260', 'A07260', 'N09400',\n",
       "       'A09400', 'N85770', 'A85770', 'N85775', 'A85775', 'N09750',\n",
       "       'A09750', 'N10600', 'A10600', 'N59660', 'A59660', 'N59720',\n",
       "       'A59720', 'N11070', 'A11070', 'N10960', 'A10960', 'N11560',\n",
       "       'A11560', 'N06500', 'A06500', 'N10300', 'A10300', 'N85530',\n",
       "       'A85530', 'N85300', 'A85300', 'N11901', 'A11901', 'N11902',\n",
       "       'A11902'], dtype=object)"
      ]
     },
     "execution_count": 14,
     "metadata": {},
     "output_type": "execute_result"
    }
   ],
   "source": [
    "income_df.columns.values"
   ]
  },
  {
   "cell_type": "markdown",
   "metadata": {},
   "source": [
    "#### Keep only the following columns:  `['STATE', 'COUNTYNAME', 'agi_stub', 'N1', 'mars1', 'MARS2', 'MARS4', 'N2', 'NUMDEP', 'ELDERLY', 'A00100', 'N02650', 'A02650', 'N02300', 'A02300']`"
   ]
  },
  {
   "cell_type": "code",
   "execution_count": 15,
   "metadata": {},
   "outputs": [],
   "source": [
    "income_df_keep = income_df.loc[:,['STATE', 'COUNTYNAME', 'agi_stub', 'N1', 'mars1', 'MARS2', 'MARS4', 'N2', 'NUMDEP', 'ELDERLY', 'A00100', 'N02650', 'A02650', 'N02300', 'A02300']]"
   ]
  },
  {
   "cell_type": "markdown",
   "metadata": {},
   "source": [
    "#### Rename those columns: `['state', 'county', 'income_bucket', 'return_count', 'single_returns', 'joint_returns', 'head_of_house_returns', 'exemptions', 'dependents', 'elderly', 'agi', 'returns_with_total_inc','total_inc_amt', 'returns_with_unemployment', 'unemployment_comp']`"
   ]
  },
  {
   "cell_type": "code",
   "execution_count": 16,
   "metadata": {},
   "outputs": [],
   "source": [
    "income_df_keep.columns = ['state', 'county', 'income_bucket', 'return_count', 'single_returns', 'joint_returns', 'head_of_house_returns', 'exemptions', 'dependents', 'elderly', 'agi', 'returns_with_total_inc','total_inc_amt', 'returns_with_unemployment', 'unemployment_comp']"
   ]
  },
  {
   "cell_type": "code",
   "execution_count": 17,
   "metadata": {},
   "outputs": [
    {
     "data": {
      "text/html": [
       "<div>\n",
       "<style scoped>\n",
       "    .dataframe tbody tr th:only-of-type {\n",
       "        vertical-align: middle;\n",
       "    }\n",
       "\n",
       "    .dataframe tbody tr th {\n",
       "        vertical-align: top;\n",
       "    }\n",
       "\n",
       "    .dataframe thead th {\n",
       "        text-align: right;\n",
       "    }\n",
       "</style>\n",
       "<table border=\"1\" class=\"dataframe\">\n",
       "  <thead>\n",
       "    <tr style=\"text-align: right;\">\n",
       "      <th></th>\n",
       "      <th>state</th>\n",
       "      <th>county</th>\n",
       "      <th>income_bucket</th>\n",
       "      <th>return_count</th>\n",
       "      <th>single_returns</th>\n",
       "      <th>joint_returns</th>\n",
       "      <th>head_of_house_returns</th>\n",
       "      <th>exemptions</th>\n",
       "      <th>dependents</th>\n",
       "      <th>elderly</th>\n",
       "      <th>agi</th>\n",
       "      <th>returns_with_total_inc</th>\n",
       "      <th>total_inc_amt</th>\n",
       "      <th>returns_with_unemployment</th>\n",
       "      <th>unemployment_comp</th>\n",
       "    </tr>\n",
       "  </thead>\n",
       "  <tbody>\n",
       "    <tr>\n",
       "      <th>0</th>\n",
       "      <td>AL</td>\n",
       "      <td>Alabama</td>\n",
       "      <td>1</td>\n",
       "      <td>26450</td>\n",
       "      <td>14680</td>\n",
       "      <td>9740</td>\n",
       "      <td>680</td>\n",
       "      <td>40700</td>\n",
       "      <td>5590</td>\n",
       "      <td>13000</td>\n",
       "      <td>-1679314</td>\n",
       "      <td>19140</td>\n",
       "      <td>-1657452</td>\n",
       "      <td>60</td>\n",
       "      <td>203</td>\n",
       "    </tr>\n",
       "    <tr>\n",
       "      <th>1</th>\n",
       "      <td>AL</td>\n",
       "      <td>Alabama</td>\n",
       "      <td>2</td>\n",
       "      <td>285760</td>\n",
       "      <td>217880</td>\n",
       "      <td>25170</td>\n",
       "      <td>39740</td>\n",
       "      <td>296830</td>\n",
       "      <td>78450</td>\n",
       "      <td>48270</td>\n",
       "      <td>1582247</td>\n",
       "      <td>285760</td>\n",
       "      <td>1632624</td>\n",
       "      <td>4180</td>\n",
       "      <td>10772</td>\n",
       "    </tr>\n",
       "    <tr>\n",
       "      <th>2</th>\n",
       "      <td>AL</td>\n",
       "      <td>Alabama</td>\n",
       "      <td>3</td>\n",
       "      <td>529780</td>\n",
       "      <td>259680</td>\n",
       "      <td>80320</td>\n",
       "      <td>181410</td>\n",
       "      <td>1000100</td>\n",
       "      <td>413070</td>\n",
       "      <td>102390</td>\n",
       "      <td>9029279</td>\n",
       "      <td>529780</td>\n",
       "      <td>9158151</td>\n",
       "      <td>18220</td>\n",
       "      <td>52886</td>\n",
       "    </tr>\n",
       "    <tr>\n",
       "      <th>3</th>\n",
       "      <td>AL</td>\n",
       "      <td>Alabama</td>\n",
       "      <td>4</td>\n",
       "      <td>495750</td>\n",
       "      <td>211100</td>\n",
       "      <td>141800</td>\n",
       "      <td>127420</td>\n",
       "      <td>996020</td>\n",
       "      <td>360090</td>\n",
       "      <td>109080</td>\n",
       "      <td>17834120</td>\n",
       "      <td>495750</td>\n",
       "      <td>18016190</td>\n",
       "      <td>14020</td>\n",
       "      <td>41072</td>\n",
       "    </tr>\n",
       "    <tr>\n",
       "      <th>4</th>\n",
       "      <td>AL</td>\n",
       "      <td>Alabama</td>\n",
       "      <td>5</td>\n",
       "      <td>263130</td>\n",
       "      <td>82330</td>\n",
       "      <td>137610</td>\n",
       "      <td>35760</td>\n",
       "      <td>583110</td>\n",
       "      <td>182490</td>\n",
       "      <td>74930</td>\n",
       "      <td>16163220</td>\n",
       "      <td>263130</td>\n",
       "      <td>16321828</td>\n",
       "      <td>7290</td>\n",
       "      <td>23990</td>\n",
       "    </tr>\n",
       "  </tbody>\n",
       "</table>\n",
       "</div>"
      ],
      "text/plain": [
       "  state   county  income_bucket  return_count  single_returns  joint_returns  \\\n",
       "0    AL  Alabama              1         26450           14680           9740   \n",
       "1    AL  Alabama              2        285760          217880          25170   \n",
       "2    AL  Alabama              3        529780          259680          80320   \n",
       "3    AL  Alabama              4        495750          211100         141800   \n",
       "4    AL  Alabama              5        263130           82330         137610   \n",
       "\n",
       "   head_of_house_returns  exemptions  dependents  elderly       agi  \\\n",
       "0                    680       40700        5590    13000  -1679314   \n",
       "1                  39740      296830       78450    48270   1582247   \n",
       "2                 181410     1000100      413070   102390   9029279   \n",
       "3                 127420      996020      360090   109080  17834120   \n",
       "4                  35760      583110      182490    74930  16163220   \n",
       "\n",
       "   returns_with_total_inc  total_inc_amt  returns_with_unemployment  \\\n",
       "0                   19140       -1657452                         60   \n",
       "1                  285760        1632624                       4180   \n",
       "2                  529780        9158151                      18220   \n",
       "3                  495750       18016190                      14020   \n",
       "4                  263130       16321828                       7290   \n",
       "\n",
       "   unemployment_comp  \n",
       "0                203  \n",
       "1              10772  \n",
       "2              52886  \n",
       "3              41072  \n",
       "4              23990  "
      ]
     },
     "execution_count": 17,
     "metadata": {},
     "output_type": "execute_result"
    }
   ],
   "source": [
    "income_df_keep.head()"
   ]
  },
  {
   "cell_type": "markdown",
   "metadata": {},
   "source": [
    "##### Note: to save a dataframe use income_df_TN.to_csv('')"
   ]
  },
  {
   "cell_type": "markdown",
   "metadata": {},
   "source": [
    "# Week two - modified"
   ]
  },
  {
   "cell_type": "markdown",
   "metadata": {},
   "source": [
    "#### Look at the distribution of analysis values for both `ha_costs_df` and `cancer_costs_df`. Does there appear to be a difference in these distributions for urban counties compared to rural counties?"
   ]
  },
  {
   "cell_type": "code",
   "execution_count": 18,
   "metadata": {},
   "outputs": [
    {
     "data": {
      "text/plain": [
       "count     1063.000000\n",
       "mean     50149.680151\n",
       "std       9708.722899\n",
       "min      24582.000000\n",
       "25%      44194.000000\n",
       "50%      49266.000000\n",
       "75%      54975.000000\n",
       "max      94309.000000\n",
       "Name: analysis_value, dtype: float64"
      ]
     },
     "execution_count": 18,
     "metadata": {},
     "output_type": "execute_result"
    }
   ],
   "source": [
    "#Distribution of analysis values among urban counties in ha_costs_df \n",
    "ha_costs_df_urban = ha_costs_df.loc[ha_costs_df['urban']=='Urban']\n",
    "ha_costs_df_urban.analysis_value.describe()"
   ]
  },
  {
   "cell_type": "code",
   "execution_count": 19,
   "metadata": {},
   "outputs": [
    {
     "data": {
      "text/plain": [
       "count      1593.000000\n",
       "mean      48684.952919\n",
       "std        9567.139779\n",
       "min       21954.000000\n",
       "25%       42357.000000\n",
       "50%       47813.000000\n",
       "75%       54263.000000\n",
       "max      111757.000000\n",
       "Name: analysis_value, dtype: float64"
      ]
     },
     "execution_count": 19,
     "metadata": {},
     "output_type": "execute_result"
    }
   ],
   "source": [
    "#Distribution of analysis values among rural counties in ha_costs_df \n",
    "ha_costs_df_rural = ha_costs_df.loc[ha_costs_df['urban']=='Rural']\n",
    "ha_costs_df_rural.analysis_value.describe()"
   ]
  },
  {
   "cell_type": "markdown",
   "metadata": {},
   "source": [
    "> We can also do a groupby to separate Rural and Urban groups\n",
    "> We can also do a histogram "
   ]
  },
  {
   "cell_type": "code",
   "execution_count": 20,
   "metadata": {},
   "outputs": [],
   "source": [
    "ha_costs_df.analysis_value[ha_costs_df.urban == 'Urban'].hist(alpha=0.5, bins = 25, label = 'Ha Costs - Urban')\n",
    "ha_costs_df.analysis_value[ha_costs_df.urban == 'Rural'].hist(alpha=0.5, bins = 25, label = 'Ha Costs - Rural').legend();"
   ]
  },
  {
   "cell_type": "code",
   "execution_count": 21,
   "metadata": {},
   "outputs": [
    {
     "data": {
      "text/plain": [
       "count     1159.000000\n",
       "mean     19949.909405\n",
       "std       3653.512311\n",
       "min       2628.000000\n",
       "25%      18336.000000\n",
       "50%      19928.000000\n",
       "75%      21820.500000\n",
       "max      55920.000000\n",
       "Name: analysis_value, dtype: float64"
      ]
     },
     "execution_count": 21,
     "metadata": {},
     "output_type": "execute_result"
    }
   ],
   "source": [
    "#Distribution of analysis values among urban counties in cancer_costs_df \n",
    "cancer_costs_df_urban = cancer_costs_df.loc[cancer_costs_df['urban']=='Urban']\n",
    "cancer_costs_df_urban.analysis_value.describe()"
   ]
  },
  {
   "cell_type": "code",
   "execution_count": 22,
   "metadata": {},
   "outputs": [
    {
     "data": {
      "text/plain": [
       "count     2006.000000\n",
       "mean     20786.536889\n",
       "std       3900.241463\n",
       "min       6241.000000\n",
       "25%      18442.500000\n",
       "50%      20401.500000\n",
       "75%      22671.250000\n",
       "max      49164.000000\n",
       "Name: analysis_value, dtype: float64"
      ]
     },
     "execution_count": 22,
     "metadata": {},
     "output_type": "execute_result"
    }
   ],
   "source": [
    "#Distribution of analysis values among rural counties in cancer_costs_df \n",
    "cancer_costs_df_rural = cancer_costs_df.loc[cancer_costs_df['urban']=='Rural']\n",
    "cancer_costs_df_rural.analysis_value.describe()"
   ]
  },
  {
   "cell_type": "code",
   "execution_count": 23,
   "metadata": {},
   "outputs": [
    {
     "data": {
      "image/png": "[encoded data removed]",
      "text/plain": [
       "<Figure size 432x288 with 1 Axes>"
      ]
     },
     "metadata": {
      "needs_background": "light"
     },
     "output_type": "display_data"
    }
   ],
   "source": [
    "cancer_costs_df.analysis_value[cancer_costs_df.urban == 'Urban'].hist(alpha=0.5, bins = 25, label = 'Cancer Costs - Urban')\n",
    "cancer_costs_df.analysis_value[cancer_costs_df.urban == 'Rural'].hist(alpha=0.5, bins = 25, label = 'Cancer Costs - Rural').legend();"
   ]
  },
  {
   "cell_type": "markdown",
   "metadata": {},
   "source": [
    "#### Create `income_dict`, a dictionary that uses the numerical codes in the income bucket column as keys and the matching descriptions ('Total', 'Under \\\\$1', 'Between 1 and \\\\$10,000',  'Between 10,000 and \\\\$25,000','Between 25,000 and \\\\$50,000', 'Between 50,000 and \\\\$75,000', 'Between 75,000 and \\\\$100,000', 'Between 100,000 and \\\\$200,000', '\\\\$200,000 or more') as values."
   ]
  },
  {
   "cell_type": "code",
   "execution_count": 24,
   "metadata": {},
   "outputs": [],
   "source": [
    "income_dict = {1:'Under $1',2: 'Between 1 and $10,000', 3:'Between 10,000 and $25,000',4:'Between 25,000 and $50,000', 5:'Between 50,000 and $75,000', 6:'Between 75,000 and $100,000', 7: 'Between 100,000 and $200,000', 8:'$200,000 or more'}"
   ]
  },
  {
   "cell_type": "markdown",
   "metadata": {},
   "source": [
    "#### Pass the dictionary as an argument to the pandas `replace()` method to change the `income_bucket` column so that it uses descriptive text instead of the numeric code."
   ]
  },
  {
   "cell_type": "code",
   "execution_count": 25,
   "metadata": {},
   "outputs": [],
   "source": [
    "income_df_keep.income_bucket = income_df_keep.income_bucket.replace(income_dict)"
   ]
  },
  {
   "cell_type": "markdown",
   "metadata": {},
   "source": [
    "#### Create a new dataframe `income_county_agg` to show totals for each county. Use the pandas `groupby()` method to group the data by state and county and get the `sum()` of all numeric columns for that county. Be sure to also `reset_index()` so that our aggregated data is re-indexed to begin at 0. Which county has the greatest number of returns? Does it also have the greatest total income?"
   ]
  },
  {
   "cell_type": "code",
   "execution_count": 26,
   "metadata": {},
   "outputs": [],
   "source": [
    "income_county_agg = income_df_keep.groupby(['state','county']).sum()\n",
    "income_county_agg = income_county_agg.reset_index()"
   ]
  },
  {
   "cell_type": "code",
   "execution_count": 27,
   "metadata": {},
   "outputs": [
    {
     "data": {
      "text/plain": [
       "195"
      ]
     },
     "execution_count": 27,
     "metadata": {},
     "output_type": "execute_result"
    }
   ],
   "source": [
    "#To extract the index of the county that has max number of returns\n",
    "income_county_agg.return_count.idxmax()"
   ]
  },
  {
   "cell_type": "code",
   "execution_count": 28,
   "metadata": {},
   "outputs": [
    {
     "data": {
      "text/plain": [
       "state                                CA\n",
       "county                       California\n",
       "return_count                   17816120\n",
       "single_returns                  8729140\n",
       "joint_returns                   6292060\n",
       "head_of_house_returns           2536910\n",
       "exemptions                     35856000\n",
       "dependents                     12634160\n",
       "elderly                         3838870\n",
       "agi                          1413863333\n",
       "returns_with_total_inc         17753650\n",
       "total_inc_amt                1435897583\n",
       "returns_with_unemployment       1065900\n",
       "unemployment_comp               5037998\n",
       "Name: 195, dtype: object"
      ]
     },
     "execution_count": 28,
     "metadata": {},
     "output_type": "execute_result"
    }
   ],
   "source": [
    "#View row #195\n",
    "income_county_agg.loc[195]"
   ]
  },
  {
   "cell_type": "code",
   "execution_count": 29,
   "metadata": {},
   "outputs": [
    {
     "data": {
      "text/plain": [
       "195"
      ]
     },
     "execution_count": 29,
     "metadata": {},
     "output_type": "execute_result"
    }
   ],
   "source": [
    "#To extract the index of the county that has max total income\n",
    "income_county_agg.agi.idxmax()"
   ]
  },
  {
   "cell_type": "markdown",
   "metadata": {},
   "source": [
    "# Week three - modified"
   ]
  },
  {
   "cell_type": "code",
   "execution_count": 30,
   "metadata": {},
   "outputs": [],
   "source": [
    "import matplotlib.pyplot as plt\n",
    "import seaborn as sns\n",
    "\n",
    "%matplotlib inline"
   ]
  },
  {
   "cell_type": "markdown",
   "metadata": {},
   "source": [
    "#### Create a calculated column in the `income_county_agg` DataFrame which gives the approximate average household income for each county. Calculate this as 1000*`total_inc_amt` / `return_count`."
   ]
  },
  {
   "cell_type": "code",
   "execution_count": 31,
   "metadata": {},
   "outputs": [],
   "source": [
    "income_county_agg['average_household_income'] = 1000*income_county_agg['total_inc_amt'] / income_county_agg['return_count']"
   ]
  },
  {
   "cell_type": "code",
   "execution_count": 32,
   "metadata": {},
   "outputs": [
    {
     "data": {
      "text/html": [
       "<div>\n",
       "<style scoped>\n",
       "    .dataframe tbody tr th:only-of-type {\n",
       "        vertical-align: middle;\n",
       "    }\n",
       "\n",
       "    .dataframe tbody tr th {\n",
       "        vertical-align: top;\n",
       "    }\n",
       "\n",
       "    .dataframe thead th {\n",
       "        text-align: right;\n",
       "    }\n",
       "</style>\n",
       "<table border=\"1\" class=\"dataframe\">\n",
       "  <thead>\n",
       "    <tr style=\"text-align: right;\">\n",
       "      <th></th>\n",
       "      <th>state</th>\n",
       "      <th>county</th>\n",
       "      <th>return_count</th>\n",
       "      <th>single_returns</th>\n",
       "      <th>joint_returns</th>\n",
       "      <th>head_of_house_returns</th>\n",
       "      <th>exemptions</th>\n",
       "      <th>dependents</th>\n",
       "      <th>elderly</th>\n",
       "      <th>agi</th>\n",
       "      <th>returns_with_total_inc</th>\n",
       "      <th>total_inc_amt</th>\n",
       "      <th>returns_with_unemployment</th>\n",
       "      <th>unemployment_comp</th>\n",
       "      <th>average_household_income</th>\n",
       "    </tr>\n",
       "  </thead>\n",
       "  <tbody>\n",
       "    <tr>\n",
       "      <th>0</th>\n",
       "      <td>AK</td>\n",
       "      <td>Alaska</td>\n",
       "      <td>348070</td>\n",
       "      <td>175480</td>\n",
       "      <td>126660</td>\n",
       "      <td>37340</td>\n",
       "      <td>654950</td>\n",
       "      <td>205660</td>\n",
       "      <td>71410</td>\n",
       "      <td>23514361</td>\n",
       "      <td>347600</td>\n",
       "      <td>23858011</td>\n",
       "      <td>83270</td>\n",
       "      <td>167460</td>\n",
       "      <td>68543.715345</td>\n",
       "    </tr>\n",
       "    <tr>\n",
       "      <th>1</th>\n",
       "      <td>AK</td>\n",
       "      <td>Aleutians East Borou</td>\n",
       "      <td>890</td>\n",
       "      <td>480</td>\n",
       "      <td>230</td>\n",
       "      <td>150</td>\n",
       "      <td>1570</td>\n",
       "      <td>500</td>\n",
       "      <td>160</td>\n",
       "      <td>42834</td>\n",
       "      <td>890</td>\n",
       "      <td>43596</td>\n",
       "      <td>190</td>\n",
       "      <td>466</td>\n",
       "      <td>48984.269663</td>\n",
       "    </tr>\n",
       "    <tr>\n",
       "      <th>2</th>\n",
       "      <td>AK</td>\n",
       "      <td>Aleutians West Censu</td>\n",
       "      <td>2110</td>\n",
       "      <td>1150</td>\n",
       "      <td>600</td>\n",
       "      <td>290</td>\n",
       "      <td>3860</td>\n",
       "      <td>1260</td>\n",
       "      <td>350</td>\n",
       "      <td>126905</td>\n",
       "      <td>2110</td>\n",
       "      <td>128069</td>\n",
       "      <td>480</td>\n",
       "      <td>1043</td>\n",
       "      <td>60696.208531</td>\n",
       "    </tr>\n",
       "    <tr>\n",
       "      <th>3</th>\n",
       "      <td>AK</td>\n",
       "      <td>Anchorage Municipali</td>\n",
       "      <td>146640</td>\n",
       "      <td>76040</td>\n",
       "      <td>50610</td>\n",
       "      <td>16420</td>\n",
       "      <td>269400</td>\n",
       "      <td>82240</td>\n",
       "      <td>28410</td>\n",
       "      <td>11056235</td>\n",
       "      <td>146440</td>\n",
       "      <td>11216452</td>\n",
       "      <td>34610</td>\n",
       "      <td>62924</td>\n",
       "      <td>76489.716312</td>\n",
       "    </tr>\n",
       "    <tr>\n",
       "      <th>4</th>\n",
       "      <td>AK</td>\n",
       "      <td>Bethel Census Area</td>\n",
       "      <td>6760</td>\n",
       "      <td>3410</td>\n",
       "      <td>1960</td>\n",
       "      <td>1240</td>\n",
       "      <td>14910</td>\n",
       "      <td>6860</td>\n",
       "      <td>910</td>\n",
       "      <td>253257</td>\n",
       "      <td>6750</td>\n",
       "      <td>255422</td>\n",
       "      <td>2220</td>\n",
       "      <td>4728</td>\n",
       "      <td>37784.319527</td>\n",
       "    </tr>\n",
       "  </tbody>\n",
       "</table>\n",
       "</div>"
      ],
      "text/plain": [
       "  state                county  return_count  single_returns  joint_returns  \\\n",
       "0    AK                Alaska        348070          175480         126660   \n",
       "1    AK  Aleutians East Borou           890             480            230   \n",
       "2    AK  Aleutians West Censu          2110            1150            600   \n",
       "3    AK  Anchorage Municipali        146640           76040          50610   \n",
       "4    AK    Bethel Census Area          6760            3410           1960   \n",
       "\n",
       "   head_of_house_returns  exemptions  dependents  elderly       agi  \\\n",
       "0                  37340      654950      205660    71410  23514361   \n",
       "1                    150        1570         500      160     42834   \n",
       "2                    290        3860        1260      350    126905   \n",
       "3                  16420      269400       82240    28410  11056235   \n",
       "4                   1240       14910        6860      910    253257   \n",
       "\n",
       "   returns_with_total_inc  total_inc_amt  returns_with_unemployment  \\\n",
       "0                  347600       23858011                      83270   \n",
       "1                     890          43596                        190   \n",
       "2                    2110         128069                        480   \n",
       "3                  146440       11216452                      34610   \n",
       "4                    6750         255422                       2220   \n",
       "\n",
       "   unemployment_comp  average_household_income  \n",
       "0             167460              68543.715345  \n",
       "1                466              48984.269663  \n",
       "2               1043              60696.208531  \n",
       "3              62924              76489.716312  \n",
       "4               4728              37784.319527  "
      ]
     },
     "execution_count": 32,
     "metadata": {},
     "output_type": "execute_result"
    }
   ],
   "source": [
    "income_county_agg.head()"
   ]
  },
  {
   "cell_type": "markdown",
   "metadata": {},
   "source": [
    "# Week four - modified"
   ]
  },
  {
   "cell_type": "markdown",
   "metadata": {},
   "source": [
    "#### In the `tn_ha_costs` DataFrame, rename the `analysis_value` column to `ha_avg_cost`. Similarly, in the `tn_cancer_costs` DataFrame, rename the `analysis_value` column to `cancer_avg_cost`."
   ]
  },
  {
   "cell_type": "code",
   "execution_count": 33,
   "metadata": {},
   "outputs": [],
   "source": [
    "ha_costs_df = ha_costs_df.rename(columns={'analysis_value':\"ha_avg_cost\"})"
   ]
  },
  {
   "cell_type": "code",
   "execution_count": 34,
   "metadata": {},
   "outputs": [],
   "source": [
    "cancer_costs_df = cancer_costs_df.rename(columns={'analysis_value':\"cancer_avg_cost\"})"
   ]
  },
  {
   "cell_type": "markdown",
   "metadata": {},
   "source": [
    "#### Create a new dataframe, `merge_df` by merging the `county`, `urban`, and `cancer_avg_cost` columns from `cancer_costs` with the `county` and `ha_avg_cost` column from `ha_costs`. Make sure that the resulting DataFrame contains just the counties that are in both `cancer_costs` and `ha_costs`. \n",
    "\n",
    "#### You will need to use the `state_abbrev.csv` file, which lists state names and their 2-character abbreviations, to map the state names in the cancer and heart attack data to their abbreviations **prior** to merging with the income data."
   ]
  },
  {
   "cell_type": "code",
   "execution_count": 35,
   "metadata": {},
   "outputs": [],
   "source": [
    "state_abbrev=pd.read_csv('../data/state_abbrev.csv')"
   ]
  },
  {
   "cell_type": "code",
   "execution_count": 36,
   "metadata": {},
   "outputs": [],
   "source": [
    "ha_costs_df['state']=ha_costs_df.state.map(state_abbrev.set_index('name')['abbrev'].to_dict())"
   ]
  },
  {
   "cell_type": "code",
   "execution_count": 37,
   "metadata": {},
   "outputs": [],
   "source": [
    "cancer_costs_df['state']=cancer_costs_df.state.map(state_abbrev.set_index('name')['abbrev'].to_dict())"
   ]
  },
  {
   "cell_type": "code",
   "execution_count": 38,
   "metadata": {},
   "outputs": [],
   "source": [
    "us_df=pd.merge(left=cancer_costs_df[['state','county','urban','cancer_avg_cost']], right=ha_costs_df[['state','county','ha_avg_cost']], on = ['state','county'], how='inner')"
   ]
  },
  {
   "cell_type": "code",
   "execution_count": 39,
   "metadata": {},
   "outputs": [
    {
     "data": {
      "text/html": [
       "<div>\n",
       "<style scoped>\n",
       "    .dataframe tbody tr th:only-of-type {\n",
       "        vertical-align: middle;\n",
       "    }\n",
       "\n",
       "    .dataframe tbody tr th {\n",
       "        vertical-align: top;\n",
       "    }\n",
       "\n",
       "    .dataframe thead th {\n",
       "        text-align: right;\n",
       "    }\n",
       "</style>\n",
       "<table border=\"1\" class=\"dataframe\">\n",
       "  <thead>\n",
       "    <tr style=\"text-align: right;\">\n",
       "      <th></th>\n",
       "      <th>state</th>\n",
       "      <th>county</th>\n",
       "      <th>urban</th>\n",
       "      <th>cancer_avg_cost</th>\n",
       "      <th>ha_avg_cost</th>\n",
       "    </tr>\n",
       "  </thead>\n",
       "  <tbody>\n",
       "    <tr>\n",
       "      <th>0</th>\n",
       "      <td>AL</td>\n",
       "      <td>Autauga County</td>\n",
       "      <td>Urban</td>\n",
       "      <td>19293</td>\n",
       "      <td>40470</td>\n",
       "    </tr>\n",
       "    <tr>\n",
       "      <th>1</th>\n",
       "      <td>AL</td>\n",
       "      <td>Baldwin County</td>\n",
       "      <td>Rural</td>\n",
       "      <td>17151</td>\n",
       "      <td>36615</td>\n",
       "    </tr>\n",
       "    <tr>\n",
       "      <th>2</th>\n",
       "      <td>AL</td>\n",
       "      <td>Barbour County</td>\n",
       "      <td>Rural</td>\n",
       "      <td>19469</td>\n",
       "      <td>46509</td>\n",
       "    </tr>\n",
       "    <tr>\n",
       "      <th>3</th>\n",
       "      <td>AL</td>\n",
       "      <td>Bibb County</td>\n",
       "      <td>Urban</td>\n",
       "      <td>17234</td>\n",
       "      <td>42949</td>\n",
       "    </tr>\n",
       "    <tr>\n",
       "      <th>4</th>\n",
       "      <td>AL</td>\n",
       "      <td>Blount County</td>\n",
       "      <td>Urban</td>\n",
       "      <td>20317</td>\n",
       "      <td>50067</td>\n",
       "    </tr>\n",
       "    <tr>\n",
       "      <th>...</th>\n",
       "      <td>...</td>\n",
       "      <td>...</td>\n",
       "      <td>...</td>\n",
       "      <td>...</td>\n",
       "      <td>...</td>\n",
       "    </tr>\n",
       "    <tr>\n",
       "      <th>2651</th>\n",
       "      <td>PR</td>\n",
       "      <td>Mayaguez Municipio</td>\n",
       "      <td>Urban</td>\n",
       "      <td>11440</td>\n",
       "      <td>28128</td>\n",
       "    </tr>\n",
       "    <tr>\n",
       "      <th>2652</th>\n",
       "      <td>PR</td>\n",
       "      <td>Ponce Municipio</td>\n",
       "      <td>Urban</td>\n",
       "      <td>10827</td>\n",
       "      <td>26403</td>\n",
       "    </tr>\n",
       "    <tr>\n",
       "      <th>2653</th>\n",
       "      <td>PR</td>\n",
       "      <td>San German Municipio</td>\n",
       "      <td>Urban</td>\n",
       "      <td>14660</td>\n",
       "      <td>26398</td>\n",
       "    </tr>\n",
       "    <tr>\n",
       "      <th>2654</th>\n",
       "      <td>PR</td>\n",
       "      <td>San Juan Municipio</td>\n",
       "      <td>Urban</td>\n",
       "      <td>9811</td>\n",
       "      <td>36599</td>\n",
       "    </tr>\n",
       "    <tr>\n",
       "      <th>2655</th>\n",
       "      <td>PR</td>\n",
       "      <td>Trujillo Alto Municipio</td>\n",
       "      <td>Urban</td>\n",
       "      <td>10481</td>\n",
       "      <td>26676</td>\n",
       "    </tr>\n",
       "  </tbody>\n",
       "</table>\n",
       "<p>2656 rows × 5 columns</p>\n",
       "</div>"
      ],
      "text/plain": [
       "     state                   county  urban  cancer_avg_cost  ha_avg_cost\n",
       "0       AL           Autauga County  Urban            19293        40470\n",
       "1       AL           Baldwin County  Rural            17151        36615\n",
       "2       AL           Barbour County  Rural            19469        46509\n",
       "3       AL              Bibb County  Urban            17234        42949\n",
       "4       AL            Blount County  Urban            20317        50067\n",
       "...    ...                      ...    ...              ...          ...\n",
       "2651    PR       Mayaguez Municipio  Urban            11440        28128\n",
       "2652    PR          Ponce Municipio  Urban            10827        26403\n",
       "2653    PR     San German Municipio  Urban            14660        26398\n",
       "2654    PR       San Juan Municipio  Urban             9811        36599\n",
       "2655    PR  Trujillo Alto Municipio  Urban            10481        26676\n",
       "\n",
       "[2656 rows x 5 columns]"
      ]
     },
     "execution_count": 39,
     "metadata": {},
     "output_type": "execute_result"
    }
   ],
   "source": [
    "us_df"
   ]
  },
  {
   "cell_type": "markdown",
   "metadata": {},
   "source": [
    "#### Merge the `avg_income` column from `income_county_agg` with `us_df` and save the result back to `us_df`. Create two new columns, `ha_cost_income_ratio` and `cancer_cost_income_ratio` by dividing `ha_avg_cost` and `cancer_avg_cost` respectively by `avg_income`."
   ]
  },
  {
   "cell_type": "code",
   "execution_count": 40,
   "metadata": {},
   "outputs": [],
   "source": [
    "us_df = pd.merge(left=income_county_agg, right=us_df, on =['state','county'], how = 'inner')"
   ]
  },
  {
   "cell_type": "code",
   "execution_count": 41,
   "metadata": {},
   "outputs": [],
   "source": [
    "us_df['ha_cost_income_ratio'] = us_df.ha_avg_cost / us_df.average_household_income"
   ]
  },
  {
   "cell_type": "code",
   "execution_count": 42,
   "metadata": {},
   "outputs": [],
   "source": [
    "us_df['cancer_cost_income_ratio'] = us_df.cancer_avg_cost / us_df.average_household_income"
   ]
  },
  {
   "cell_type": "markdown",
   "metadata": {},
   "source": [
    "# Week five"
   ]
  },
  {
   "cell_type": "markdown",
   "metadata": {},
   "source": [
    "#### Build a model that will predict whether the average cost to income ratio for cancer care is above the average cost or equal to or below the average cost to income ratio."
   ]
  },
  {
   "cell_type": "code",
   "execution_count": 43,
   "metadata": {},
   "outputs": [],
   "source": [
    "#Load neccessary packages\n",
    "from sklearn.model_selection import train_test_split\n",
    "from sklearn.linear_model import LogisticRegression\n",
    "from sklearn import metrics\n",
    "\n",
    "from cm import plot_confusion_matrix\n",
    "\n",
    "import warnings\n",
    "\n",
    "warnings.filterwarnings('ignore')"
   ]
  },
  {
   "cell_type": "code",
   "execution_count": 44,
   "metadata": {},
   "outputs": [
    {
     "data": {
      "text/html": [
       "<div>\n",
       "<style scoped>\n",
       "    .dataframe tbody tr th:only-of-type {\n",
       "        vertical-align: middle;\n",
       "    }\n",
       "\n",
       "    .dataframe tbody tr th {\n",
       "        vertical-align: top;\n",
       "    }\n",
       "\n",
       "    .dataframe thead th {\n",
       "        text-align: right;\n",
       "    }\n",
       "</style>\n",
       "<table border=\"1\" class=\"dataframe\">\n",
       "  <thead>\n",
       "    <tr style=\"text-align: right;\">\n",
       "      <th></th>\n",
       "      <th>state</th>\n",
       "      <th>county</th>\n",
       "      <th>return_count</th>\n",
       "      <th>single_returns</th>\n",
       "      <th>joint_returns</th>\n",
       "      <th>head_of_house_returns</th>\n",
       "      <th>exemptions</th>\n",
       "      <th>dependents</th>\n",
       "      <th>elderly</th>\n",
       "      <th>agi</th>\n",
       "      <th>returns_with_total_inc</th>\n",
       "      <th>total_inc_amt</th>\n",
       "      <th>returns_with_unemployment</th>\n",
       "      <th>unemployment_comp</th>\n",
       "      <th>average_household_income</th>\n",
       "      <th>urban</th>\n",
       "      <th>cancer_avg_cost</th>\n",
       "      <th>ha_avg_cost</th>\n",
       "      <th>ha_cost_income_ratio</th>\n",
       "      <th>cancer_cost_income_ratio</th>\n",
       "    </tr>\n",
       "  </thead>\n",
       "  <tbody>\n",
       "    <tr>\n",
       "      <th>0</th>\n",
       "      <td>AL</td>\n",
       "      <td>Autauga County</td>\n",
       "      <td>24090</td>\n",
       "      <td>9340</td>\n",
       "      <td>10040</td>\n",
       "      <td>4160</td>\n",
       "      <td>49930</td>\n",
       "      <td>17390</td>\n",
       "      <td>5340</td>\n",
       "      <td>1327941</td>\n",
       "      <td>24020</td>\n",
       "      <td>1341337</td>\n",
       "      <td>430</td>\n",
       "      <td>1464</td>\n",
       "      <td>55680.240764</td>\n",
       "      <td>Urban</td>\n",
       "      <td>19293</td>\n",
       "      <td>40470</td>\n",
       "      <td>0.726829</td>\n",
       "      <td>0.346496</td>\n",
       "    </tr>\n",
       "    <tr>\n",
       "      <th>1</th>\n",
       "      <td>AL</td>\n",
       "      <td>Baldwin County</td>\n",
       "      <td>95900</td>\n",
       "      <td>39530</td>\n",
       "      <td>41360</td>\n",
       "      <td>12810</td>\n",
       "      <td>188550</td>\n",
       "      <td>57200</td>\n",
       "      <td>29090</td>\n",
       "      <td>5908443</td>\n",
       "      <td>95550</td>\n",
       "      <td>6003632</td>\n",
       "      <td>1980</td>\n",
       "      <td>6556</td>\n",
       "      <td>62603.044838</td>\n",
       "      <td>Rural</td>\n",
       "      <td>17151</td>\n",
       "      <td>36615</td>\n",
       "      <td>0.584876</td>\n",
       "      <td>0.273964</td>\n",
       "    </tr>\n",
       "    <tr>\n",
       "      <th>2</th>\n",
       "      <td>AL</td>\n",
       "      <td>Barbour County</td>\n",
       "      <td>9210</td>\n",
       "      <td>3530</td>\n",
       "      <td>2890</td>\n",
       "      <td>2630</td>\n",
       "      <td>18710</td>\n",
       "      <td>6970</td>\n",
       "      <td>2400</td>\n",
       "      <td>364774</td>\n",
       "      <td>9170</td>\n",
       "      <td>369267</td>\n",
       "      <td>260</td>\n",
       "      <td>824</td>\n",
       "      <td>40094.136808</td>\n",
       "      <td>Rural</td>\n",
       "      <td>19469</td>\n",
       "      <td>46509</td>\n",
       "      <td>1.159995</td>\n",
       "      <td>0.485582</td>\n",
       "    </tr>\n",
       "    <tr>\n",
       "      <th>3</th>\n",
       "      <td>AL</td>\n",
       "      <td>Bibb County</td>\n",
       "      <td>7940</td>\n",
       "      <td>2880</td>\n",
       "      <td>3300</td>\n",
       "      <td>1600</td>\n",
       "      <td>16980</td>\n",
       "      <td>6120</td>\n",
       "      <td>1670</td>\n",
       "      <td>371500</td>\n",
       "      <td>7920</td>\n",
       "      <td>375246</td>\n",
       "      <td>290</td>\n",
       "      <td>903</td>\n",
       "      <td>47260.201511</td>\n",
       "      <td>Urban</td>\n",
       "      <td>17234</td>\n",
       "      <td>42949</td>\n",
       "      <td>0.908777</td>\n",
       "      <td>0.364662</td>\n",
       "    </tr>\n",
       "    <tr>\n",
       "      <th>4</th>\n",
       "      <td>AL</td>\n",
       "      <td>Blount County</td>\n",
       "      <td>22110</td>\n",
       "      <td>7770</td>\n",
       "      <td>11280</td>\n",
       "      <td>2620</td>\n",
       "      <td>48450</td>\n",
       "      <td>16330</td>\n",
       "      <td>5350</td>\n",
       "      <td>1078297</td>\n",
       "      <td>22020</td>\n",
       "      <td>1090757</td>\n",
       "      <td>540</td>\n",
       "      <td>1760</td>\n",
       "      <td>49333.197648</td>\n",
       "      <td>Urban</td>\n",
       "      <td>20317</td>\n",
       "      <td>50067</td>\n",
       "      <td>1.014874</td>\n",
       "      <td>0.411832</td>\n",
       "    </tr>\n",
       "    <tr>\n",
       "      <th>...</th>\n",
       "      <td>...</td>\n",
       "      <td>...</td>\n",
       "      <td>...</td>\n",
       "      <td>...</td>\n",
       "      <td>...</td>\n",
       "      <td>...</td>\n",
       "      <td>...</td>\n",
       "      <td>...</td>\n",
       "      <td>...</td>\n",
       "      <td>...</td>\n",
       "      <td>...</td>\n",
       "      <td>...</td>\n",
       "      <td>...</td>\n",
       "      <td>...</td>\n",
       "      <td>...</td>\n",
       "      <td>...</td>\n",
       "      <td>...</td>\n",
       "      <td>...</td>\n",
       "      <td>...</td>\n",
       "      <td>...</td>\n",
       "    </tr>\n",
       "    <tr>\n",
       "      <th>2614</th>\n",
       "      <td>WY</td>\n",
       "      <td>Sheridan County</td>\n",
       "      <td>14940</td>\n",
       "      <td>7120</td>\n",
       "      <td>6280</td>\n",
       "      <td>1270</td>\n",
       "      <td>27620</td>\n",
       "      <td>7410</td>\n",
       "      <td>4850</td>\n",
       "      <td>999357</td>\n",
       "      <td>14890</td>\n",
       "      <td>1020220</td>\n",
       "      <td>770</td>\n",
       "      <td>3582</td>\n",
       "      <td>68287.817938</td>\n",
       "      <td>Rural</td>\n",
       "      <td>19864</td>\n",
       "      <td>59314</td>\n",
       "      <td>0.868588</td>\n",
       "      <td>0.290886</td>\n",
       "    </tr>\n",
       "    <tr>\n",
       "      <th>2615</th>\n",
       "      <td>WY</td>\n",
       "      <td>Sweetwater County</td>\n",
       "      <td>19570</td>\n",
       "      <td>8280</td>\n",
       "      <td>8570</td>\n",
       "      <td>2370</td>\n",
       "      <td>41400</td>\n",
       "      <td>14380</td>\n",
       "      <td>4310</td>\n",
       "      <td>1319648</td>\n",
       "      <td>19510</td>\n",
       "      <td>1330675</td>\n",
       "      <td>1200</td>\n",
       "      <td>6751</td>\n",
       "      <td>67995.656617</td>\n",
       "      <td>Rural</td>\n",
       "      <td>23139</td>\n",
       "      <td>57980</td>\n",
       "      <td>0.852702</td>\n",
       "      <td>0.340301</td>\n",
       "    </tr>\n",
       "    <tr>\n",
       "      <th>2616</th>\n",
       "      <td>WY</td>\n",
       "      <td>Teton County</td>\n",
       "      <td>14220</td>\n",
       "      <td>8030</td>\n",
       "      <td>4800</td>\n",
       "      <td>1120</td>\n",
       "      <td>25950</td>\n",
       "      <td>7870</td>\n",
       "      <td>3120</td>\n",
       "      <td>2999067</td>\n",
       "      <td>14200</td>\n",
       "      <td>3051442</td>\n",
       "      <td>720</td>\n",
       "      <td>2709</td>\n",
       "      <td>214588.045007</td>\n",
       "      <td>Rural</td>\n",
       "      <td>14149</td>\n",
       "      <td>31371</td>\n",
       "      <td>0.146192</td>\n",
       "      <td>0.065936</td>\n",
       "    </tr>\n",
       "    <tr>\n",
       "      <th>2617</th>\n",
       "      <td>WY</td>\n",
       "      <td>Uinta County</td>\n",
       "      <td>9030</td>\n",
       "      <td>3550</td>\n",
       "      <td>4330</td>\n",
       "      <td>980</td>\n",
       "      <td>20000</td>\n",
       "      <td>7260</td>\n",
       "      <td>2280</td>\n",
       "      <td>543928</td>\n",
       "      <td>9000</td>\n",
       "      <td>550039</td>\n",
       "      <td>520</td>\n",
       "      <td>2953</td>\n",
       "      <td>60912.403101</td>\n",
       "      <td>Rural</td>\n",
       "      <td>18194</td>\n",
       "      <td>73571</td>\n",
       "      <td>1.207816</td>\n",
       "      <td>0.298691</td>\n",
       "    </tr>\n",
       "    <tr>\n",
       "      <th>2618</th>\n",
       "      <td>WY</td>\n",
       "      <td>Washakie County</td>\n",
       "      <td>3670</td>\n",
       "      <td>1520</td>\n",
       "      <td>1750</td>\n",
       "      <td>340</td>\n",
       "      <td>7420</td>\n",
       "      <td>2260</td>\n",
       "      <td>1220</td>\n",
       "      <td>224887</td>\n",
       "      <td>3660</td>\n",
       "      <td>228452</td>\n",
       "      <td>190</td>\n",
       "      <td>880</td>\n",
       "      <td>62248.501362</td>\n",
       "      <td>Rural</td>\n",
       "      <td>23660</td>\n",
       "      <td>75675</td>\n",
       "      <td>1.215692</td>\n",
       "      <td>0.380089</td>\n",
       "    </tr>\n",
       "  </tbody>\n",
       "</table>\n",
       "<p>2619 rows × 20 columns</p>\n",
       "</div>"
      ],
      "text/plain": [
       "     state             county  return_count  single_returns  joint_returns  \\\n",
       "0       AL     Autauga County         24090            9340          10040   \n",
       "1       AL     Baldwin County         95900           39530          41360   \n",
       "2       AL     Barbour County          9210            3530           2890   \n",
       "3       AL        Bibb County          7940            2880           3300   \n",
       "4       AL      Blount County         22110            7770          11280   \n",
       "...    ...                ...           ...             ...            ...   \n",
       "2614    WY    Sheridan County         14940            7120           6280   \n",
       "2615    WY  Sweetwater County         19570            8280           8570   \n",
       "2616    WY       Teton County         14220            8030           4800   \n",
       "2617    WY       Uinta County          9030            3550           4330   \n",
       "2618    WY    Washakie County          3670            1520           1750   \n",
       "\n",
       "      head_of_house_returns  exemptions  dependents  elderly      agi  \\\n",
       "0                      4160       49930       17390     5340  1327941   \n",
       "1                     12810      188550       57200    29090  5908443   \n",
       "2                      2630       18710        6970     2400   364774   \n",
       "3                      1600       16980        6120     1670   371500   \n",
       "4                      2620       48450       16330     5350  1078297   \n",
       "...                     ...         ...         ...      ...      ...   \n",
       "2614                   1270       27620        7410     4850   999357   \n",
       "2615                   2370       41400       14380     4310  1319648   \n",
       "2616                   1120       25950        7870     3120  2999067   \n",
       "2617                    980       20000        7260     2280   543928   \n",
       "2618                    340        7420        2260     1220   224887   \n",
       "\n",
       "      returns_with_total_inc  total_inc_amt  returns_with_unemployment  \\\n",
       "0                      24020        1341337                        430   \n",
       "1                      95550        6003632                       1980   \n",
       "2                       9170         369267                        260   \n",
       "3                       7920         375246                        290   \n",
       "4                      22020        1090757                        540   \n",
       "...                      ...            ...                        ...   \n",
       "2614                   14890        1020220                        770   \n",
       "2615                   19510        1330675                       1200   \n",
       "2616                   14200        3051442                        720   \n",
       "2617                    9000         550039                        520   \n",
       "2618                    3660         228452                        190   \n",
       "\n",
       "      unemployment_comp  average_household_income  urban  cancer_avg_cost  \\\n",
       "0                  1464              55680.240764  Urban            19293   \n",
       "1                  6556              62603.044838  Rural            17151   \n",
       "2                   824              40094.136808  Rural            19469   \n",
       "3                   903              47260.201511  Urban            17234   \n",
       "4                  1760              49333.197648  Urban            20317   \n",
       "...                 ...                       ...    ...              ...   \n",
       "2614               3582              68287.817938  Rural            19864   \n",
       "2615               6751              67995.656617  Rural            23139   \n",
       "2616               2709             214588.045007  Rural            14149   \n",
       "2617               2953              60912.403101  Rural            18194   \n",
       "2618                880              62248.501362  Rural            23660   \n",
       "\n",
       "      ha_avg_cost  ha_cost_income_ratio  cancer_cost_income_ratio  \n",
       "0           40470              0.726829                  0.346496  \n",
       "1           36615              0.584876                  0.273964  \n",
       "2           46509              1.159995                  0.485582  \n",
       "3           42949              0.908777                  0.364662  \n",
       "4           50067              1.014874                  0.411832  \n",
       "...           ...                   ...                       ...  \n",
       "2614        59314              0.868588                  0.290886  \n",
       "2615        57980              0.852702                  0.340301  \n",
       "2616        31371              0.146192                  0.065936  \n",
       "2617        73571              1.207816                  0.298691  \n",
       "2618        75675              1.215692                  0.380089  \n",
       "\n",
       "[2619 rows x 20 columns]"
      ]
     },
     "execution_count": 44,
     "metadata": {},
     "output_type": "execute_result"
    }
   ],
   "source": [
    "us_df"
   ]
  },
  {
   "cell_type": "code",
   "execution_count": 45,
   "metadata": {},
   "outputs": [],
   "source": [
    "# Convert urban column into dummy variable\n",
    "us_df = pd.get_dummies(us_df, columns = ['urban'], drop_first = True)"
   ]
  },
  {
   "cell_type": "code",
   "execution_count": 46,
   "metadata": {},
   "outputs": [],
   "source": [
    "# Drop name columns\n",
    "us_df_noname = us_df.drop(columns=['state','county'])"
   ]
  },
  {
   "cell_type": "code",
   "execution_count": 47,
   "metadata": {},
   "outputs": [],
   "source": [
    "# Convert cancer_cost_income_ratio to dummy variable \n",
    "us_df_noname['cancer_income_ratio_higher_than_average'] = us_df_noname.cancer_cost_income_ratio > us_df_noname.cancer_cost_income_ratio.mean()"
   ]
  },
  {
   "cell_type": "code",
   "execution_count": 48,
   "metadata": {},
   "outputs": [
    {
     "data": {
      "text/html": [
       "<div>\n",
       "<style scoped>\n",
       "    .dataframe tbody tr th:only-of-type {\n",
       "        vertical-align: middle;\n",
       "    }\n",
       "\n",
       "    .dataframe tbody tr th {\n",
       "        vertical-align: top;\n",
       "    }\n",
       "\n",
       "    .dataframe thead th {\n",
       "        text-align: right;\n",
       "    }\n",
       "</style>\n",
       "<table border=\"1\" class=\"dataframe\">\n",
       "  <thead>\n",
       "    <tr style=\"text-align: right;\">\n",
       "      <th></th>\n",
       "      <th>return_count</th>\n",
       "      <th>single_returns</th>\n",
       "      <th>joint_returns</th>\n",
       "      <th>head_of_house_returns</th>\n",
       "      <th>exemptions</th>\n",
       "      <th>dependents</th>\n",
       "      <th>elderly</th>\n",
       "      <th>agi</th>\n",
       "      <th>returns_with_total_inc</th>\n",
       "      <th>total_inc_amt</th>\n",
       "      <th>returns_with_unemployment</th>\n",
       "      <th>unemployment_comp</th>\n",
       "      <th>average_household_income</th>\n",
       "      <th>cancer_avg_cost</th>\n",
       "      <th>ha_avg_cost</th>\n",
       "      <th>ha_cost_income_ratio</th>\n",
       "      <th>cancer_cost_income_ratio</th>\n",
       "      <th>urban_Urban</th>\n",
       "      <th>cancer_income_ratio_higher_than_average</th>\n",
       "    </tr>\n",
       "  </thead>\n",
       "  <tbody>\n",
       "    <tr>\n",
       "      <th>0</th>\n",
       "      <td>24090</td>\n",
       "      <td>9340</td>\n",
       "      <td>10040</td>\n",
       "      <td>4160</td>\n",
       "      <td>49930</td>\n",
       "      <td>17390</td>\n",
       "      <td>5340</td>\n",
       "      <td>1327941</td>\n",
       "      <td>24020</td>\n",
       "      <td>1341337</td>\n",
       "      <td>430</td>\n",
       "      <td>1464</td>\n",
       "      <td>55680.240764</td>\n",
       "      <td>19293</td>\n",
       "      <td>40470</td>\n",
       "      <td>0.726829</td>\n",
       "      <td>0.346496</td>\n",
       "      <td>1</td>\n",
       "      <td>False</td>\n",
       "    </tr>\n",
       "    <tr>\n",
       "      <th>1</th>\n",
       "      <td>95900</td>\n",
       "      <td>39530</td>\n",
       "      <td>41360</td>\n",
       "      <td>12810</td>\n",
       "      <td>188550</td>\n",
       "      <td>57200</td>\n",
       "      <td>29090</td>\n",
       "      <td>5908443</td>\n",
       "      <td>95550</td>\n",
       "      <td>6003632</td>\n",
       "      <td>1980</td>\n",
       "      <td>6556</td>\n",
       "      <td>62603.044838</td>\n",
       "      <td>17151</td>\n",
       "      <td>36615</td>\n",
       "      <td>0.584876</td>\n",
       "      <td>0.273964</td>\n",
       "      <td>0</td>\n",
       "      <td>False</td>\n",
       "    </tr>\n",
       "    <tr>\n",
       "      <th>2</th>\n",
       "      <td>9210</td>\n",
       "      <td>3530</td>\n",
       "      <td>2890</td>\n",
       "      <td>2630</td>\n",
       "      <td>18710</td>\n",
       "      <td>6970</td>\n",
       "      <td>2400</td>\n",
       "      <td>364774</td>\n",
       "      <td>9170</td>\n",
       "      <td>369267</td>\n",
       "      <td>260</td>\n",
       "      <td>824</td>\n",
       "      <td>40094.136808</td>\n",
       "      <td>19469</td>\n",
       "      <td>46509</td>\n",
       "      <td>1.159995</td>\n",
       "      <td>0.485582</td>\n",
       "      <td>0</td>\n",
       "      <td>True</td>\n",
       "    </tr>\n",
       "    <tr>\n",
       "      <th>3</th>\n",
       "      <td>7940</td>\n",
       "      <td>2880</td>\n",
       "      <td>3300</td>\n",
       "      <td>1600</td>\n",
       "      <td>16980</td>\n",
       "      <td>6120</td>\n",
       "      <td>1670</td>\n",
       "      <td>371500</td>\n",
       "      <td>7920</td>\n",
       "      <td>375246</td>\n",
       "      <td>290</td>\n",
       "      <td>903</td>\n",
       "      <td>47260.201511</td>\n",
       "      <td>17234</td>\n",
       "      <td>42949</td>\n",
       "      <td>0.908777</td>\n",
       "      <td>0.364662</td>\n",
       "      <td>1</td>\n",
       "      <td>False</td>\n",
       "    </tr>\n",
       "    <tr>\n",
       "      <th>4</th>\n",
       "      <td>22110</td>\n",
       "      <td>7770</td>\n",
       "      <td>11280</td>\n",
       "      <td>2620</td>\n",
       "      <td>48450</td>\n",
       "      <td>16330</td>\n",
       "      <td>5350</td>\n",
       "      <td>1078297</td>\n",
       "      <td>22020</td>\n",
       "      <td>1090757</td>\n",
       "      <td>540</td>\n",
       "      <td>1760</td>\n",
       "      <td>49333.197648</td>\n",
       "      <td>20317</td>\n",
       "      <td>50067</td>\n",
       "      <td>1.014874</td>\n",
       "      <td>0.411832</td>\n",
       "      <td>1</td>\n",
       "      <td>True</td>\n",
       "    </tr>\n",
       "    <tr>\n",
       "      <th>...</th>\n",
       "      <td>...</td>\n",
       "      <td>...</td>\n",
       "      <td>...</td>\n",
       "      <td>...</td>\n",
       "      <td>...</td>\n",
       "      <td>...</td>\n",
       "      <td>...</td>\n",
       "      <td>...</td>\n",
       "      <td>...</td>\n",
       "      <td>...</td>\n",
       "      <td>...</td>\n",
       "      <td>...</td>\n",
       "      <td>...</td>\n",
       "      <td>...</td>\n",
       "      <td>...</td>\n",
       "      <td>...</td>\n",
       "      <td>...</td>\n",
       "      <td>...</td>\n",
       "      <td>...</td>\n",
       "    </tr>\n",
       "    <tr>\n",
       "      <th>2614</th>\n",
       "      <td>14940</td>\n",
       "      <td>7120</td>\n",
       "      <td>6280</td>\n",
       "      <td>1270</td>\n",
       "      <td>27620</td>\n",
       "      <td>7410</td>\n",
       "      <td>4850</td>\n",
       "      <td>999357</td>\n",
       "      <td>14890</td>\n",
       "      <td>1020220</td>\n",
       "      <td>770</td>\n",
       "      <td>3582</td>\n",
       "      <td>68287.817938</td>\n",
       "      <td>19864</td>\n",
       "      <td>59314</td>\n",
       "      <td>0.868588</td>\n",
       "      <td>0.290886</td>\n",
       "      <td>0</td>\n",
       "      <td>False</td>\n",
       "    </tr>\n",
       "    <tr>\n",
       "      <th>2615</th>\n",
       "      <td>19570</td>\n",
       "      <td>8280</td>\n",
       "      <td>8570</td>\n",
       "      <td>2370</td>\n",
       "      <td>41400</td>\n",
       "      <td>14380</td>\n",
       "      <td>4310</td>\n",
       "      <td>1319648</td>\n",
       "      <td>19510</td>\n",
       "      <td>1330675</td>\n",
       "      <td>1200</td>\n",
       "      <td>6751</td>\n",
       "      <td>67995.656617</td>\n",
       "      <td>23139</td>\n",
       "      <td>57980</td>\n",
       "      <td>0.852702</td>\n",
       "      <td>0.340301</td>\n",
       "      <td>0</td>\n",
       "      <td>False</td>\n",
       "    </tr>\n",
       "    <tr>\n",
       "      <th>2616</th>\n",
       "      <td>14220</td>\n",
       "      <td>8030</td>\n",
       "      <td>4800</td>\n",
       "      <td>1120</td>\n",
       "      <td>25950</td>\n",
       "      <td>7870</td>\n",
       "      <td>3120</td>\n",
       "      <td>2999067</td>\n",
       "      <td>14200</td>\n",
       "      <td>3051442</td>\n",
       "      <td>720</td>\n",
       "      <td>2709</td>\n",
       "      <td>214588.045007</td>\n",
       "      <td>14149</td>\n",
       "      <td>31371</td>\n",
       "      <td>0.146192</td>\n",
       "      <td>0.065936</td>\n",
       "      <td>0</td>\n",
       "      <td>False</td>\n",
       "    </tr>\n",
       "    <tr>\n",
       "      <th>2617</th>\n",
       "      <td>9030</td>\n",
       "      <td>3550</td>\n",
       "      <td>4330</td>\n",
       "      <td>980</td>\n",
       "      <td>20000</td>\n",
       "      <td>7260</td>\n",
       "      <td>2280</td>\n",
       "      <td>543928</td>\n",
       "      <td>9000</td>\n",
       "      <td>550039</td>\n",
       "      <td>520</td>\n",
       "      <td>2953</td>\n",
       "      <td>60912.403101</td>\n",
       "      <td>18194</td>\n",
       "      <td>73571</td>\n",
       "      <td>1.207816</td>\n",
       "      <td>0.298691</td>\n",
       "      <td>0</td>\n",
       "      <td>False</td>\n",
       "    </tr>\n",
       "    <tr>\n",
       "      <th>2618</th>\n",
       "      <td>3670</td>\n",
       "      <td>1520</td>\n",
       "      <td>1750</td>\n",
       "      <td>340</td>\n",
       "      <td>7420</td>\n",
       "      <td>2260</td>\n",
       "      <td>1220</td>\n",
       "      <td>224887</td>\n",
       "      <td>3660</td>\n",
       "      <td>228452</td>\n",
       "      <td>190</td>\n",
       "      <td>880</td>\n",
       "      <td>62248.501362</td>\n",
       "      <td>23660</td>\n",
       "      <td>75675</td>\n",
       "      <td>1.215692</td>\n",
       "      <td>0.380089</td>\n",
       "      <td>0</td>\n",
       "      <td>False</td>\n",
       "    </tr>\n",
       "  </tbody>\n",
       "</table>\n",
       "<p>2619 rows × 19 columns</p>\n",
       "</div>"
      ],
      "text/plain": [
       "      return_count  single_returns  joint_returns  head_of_house_returns  \\\n",
       "0            24090            9340          10040                   4160   \n",
       "1            95900           39530          41360                  12810   \n",
       "2             9210            3530           2890                   2630   \n",
       "3             7940            2880           3300                   1600   \n",
       "4            22110            7770          11280                   2620   \n",
       "...            ...             ...            ...                    ...   \n",
       "2614         14940            7120           6280                   1270   \n",
       "2615         19570            8280           8570                   2370   \n",
       "2616         14220            8030           4800                   1120   \n",
       "2617          9030            3550           4330                    980   \n",
       "2618          3670            1520           1750                    340   \n",
       "\n",
       "      exemptions  dependents  elderly      agi  returns_with_total_inc  \\\n",
       "0          49930       17390     5340  1327941                   24020   \n",
       "1         188550       57200    29090  5908443                   95550   \n",
       "2          18710        6970     2400   364774                    9170   \n",
       "3          16980        6120     1670   371500                    7920   \n",
       "4          48450       16330     5350  1078297                   22020   \n",
       "...          ...         ...      ...      ...                     ...   \n",
       "2614       27620        7410     4850   999357                   14890   \n",
       "2615       41400       14380     4310  1319648                   19510   \n",
       "2616       25950        7870     3120  2999067                   14200   \n",
       "2617       20000        7260     2280   543928                    9000   \n",
       "2618        7420        2260     1220   224887                    3660   \n",
       "\n",
       "      total_inc_amt  returns_with_unemployment  unemployment_comp  \\\n",
       "0           1341337                        430               1464   \n",
       "1           6003632                       1980               6556   \n",
       "2            369267                        260                824   \n",
       "3            375246                        290                903   \n",
       "4           1090757                        540               1760   \n",
       "...             ...                        ...                ...   \n",
       "2614        1020220                        770               3582   \n",
       "2615        1330675                       1200               6751   \n",
       "2616        3051442                        720               2709   \n",
       "2617         550039                        520               2953   \n",
       "2618         228452                        190                880   \n",
       "\n",
       "      average_household_income  cancer_avg_cost  ha_avg_cost  \\\n",
       "0                 55680.240764            19293        40470   \n",
       "1                 62603.044838            17151        36615   \n",
       "2                 40094.136808            19469        46509   \n",
       "3                 47260.201511            17234        42949   \n",
       "4                 49333.197648            20317        50067   \n",
       "...                        ...              ...          ...   \n",
       "2614              68287.817938            19864        59314   \n",
       "2615              67995.656617            23139        57980   \n",
       "2616             214588.045007            14149        31371   \n",
       "2617              60912.403101            18194        73571   \n",
       "2618              62248.501362            23660        75675   \n",
       "\n",
       "      ha_cost_income_ratio  cancer_cost_income_ratio  urban_Urban  \\\n",
       "0                 0.726829                  0.346496            1   \n",
       "1                 0.584876                  0.273964            0   \n",
       "2                 1.159995                  0.485582            0   \n",
       "3                 0.908777                  0.364662            1   \n",
       "4                 1.014874                  0.411832            1   \n",
       "...                    ...                       ...          ...   \n",
       "2614              0.868588                  0.290886            0   \n",
       "2615              0.852702                  0.340301            0   \n",
       "2616              0.146192                  0.065936            0   \n",
       "2617              1.207816                  0.298691            0   \n",
       "2618              1.215692                  0.380089            0   \n",
       "\n",
       "      cancer_income_ratio_higher_than_average  \n",
       "0                                       False  \n",
       "1                                       False  \n",
       "2                                        True  \n",
       "3                                       False  \n",
       "4                                        True  \n",
       "...                                       ...  \n",
       "2614                                    False  \n",
       "2615                                    False  \n",
       "2616                                    False  \n",
       "2617                                    False  \n",
       "2618                                    False  \n",
       "\n",
       "[2619 rows x 19 columns]"
      ]
     },
     "execution_count": 48,
     "metadata": {},
     "output_type": "execute_result"
    }
   ],
   "source": [
    "us_df_noname"
   ]
  },
  {
   "cell_type": "code",
   "execution_count": 49,
   "metadata": {},
   "outputs": [],
   "source": [
    "# Set Predictor to be everything else but \"cancer_cost_income_ratio\"\n",
    "X = us_df_noname.drop(columns = ['cancer_cost_income_ratio','cancer_income_ratio_higher_than_average','average_household_income','cancer_avg_cost'])\n",
    "# Set Target\n",
    "y = us_df_noname.cancer_income_ratio_higher_than_average"
   ]
  },
  {
   "cell_type": "code",
   "execution_count": 50,
   "metadata": {},
   "outputs": [],
   "source": [
    "# Split data for training and testing:\n",
    "X_train, X_test, y_train, y_test = train_test_split(X, y, random_state = 321)"
   ]
  },
  {
   "cell_type": "code",
   "execution_count": 51,
   "metadata": {},
   "outputs": [
    {
     "data": {
      "text/plain": [
       "LogisticRegression()"
      ]
     },
     "execution_count": 51,
     "metadata": {},
     "output_type": "execute_result"
    }
   ],
   "source": [
    "logistic_model = LogisticRegression()\n",
    "logistic_model.fit(X_train, y_train)"
   ]
  },
  {
   "cell_type": "code",
   "execution_count": 52,
   "metadata": {},
   "outputs": [
    {
     "data": {
      "image/png": "[encoded data removed]",
      "text/plain": [
       "<Figure size 504x360 with 1 Axes>"
      ]
     },
     "metadata": {
      "needs_background": "light"
     },
     "output_type": "display_data"
    }
   ],
   "source": [
    "fig, ax = plt.subplots(figsize = (7,5))\n",
    "sns.barplot(x = logistic_model.coef_[0], y = list(X.columns), ax = ax, edgecolor = 'black', color = 'darkturquoise')\n",
    "plt.title('Logistic Regression Coefficients')\n",
    "\n",
    "ymin, ymax = plt.ylim()\n",
    "plt.vlines(x = 0, ymin = ymin, ymax = ymax);"
   ]
  },
  {
   "cell_type": "markdown",
   "metadata": {},
   "source": [
    "> For this model, a positive coefficient for cancer average cost means that the more expensive the cost is to treat cancer (holding all others constant) the higher probability of cancer_income_ratio larger than average and a negative coefficient for average household income indicates the opposite."
   ]
  },
  {
   "cell_type": "markdown",
   "metadata": {},
   "source": [
    "#### Evaluate a logistic regression model"
   ]
  },
  {
   "cell_type": "markdown",
   "metadata": {},
   "source": [
    "   ##### Analyzing Predicted Probabilities"
   ]
  },
  {
   "cell_type": "code",
   "execution_count": 53,
   "metadata": {},
   "outputs": [],
   "source": [
    "# Recall that a logistic regression model outputs predicted probabilities. \n",
    "# You can generate these predicted probabilities using the `predict_proba` method of your model. \n",
    "# This outputs the predicted probability of both classes (True or False). You can assess the probability of one class only by slicing the output. \n",
    "y_pred_prob = logistic_model.predict_proba(X_test)[:,1]"
   ]
  },
  {
   "cell_type": "code",
   "execution_count": 54,
   "metadata": {},
   "outputs": [
    {
     "name": "stdout",
     "output_type": "stream",
     "text": [
      "County information:return_count                   6390.000000\n",
      "single_returns                 2530.000000\n",
      "joint_returns                  2220.000000\n",
      "head_of_house_returns          1450.000000\n",
      "exemptions                    13430.000000\n",
      "dependents                     5130.000000\n",
      "elderly                        1310.000000\n",
      "agi                          234025.000000\n",
      "returns_with_total_inc         6380.000000\n",
      "total_inc_amt                237862.000000\n",
      "returns_with_unemployment       160.000000\n",
      "unemployment_comp               367.000000\n",
      "ha_avg_cost                   38078.000000\n",
      "ha_cost_income_ratio              1.022939\n",
      "urban_Urban                       0.000000\n",
      "Name: 348, dtype: float64\n",
      "---------------------------------\n",
      "Predicted Probability of cancer_income_ratio_higher_than_average: 0.7954838065857397\n"
     ]
    }
   ],
   "source": [
    "i = 1\n",
    "\n",
    "print('County information:{}'.format(X_test.iloc[i]))\n",
    "print('---------------------------------')\n",
    "print('Predicted Probability of cancer_income_ratio_higher_than_average: {}'.format(y_pred_prob[i]))"
   ]
  },
  {
   "cell_type": "code",
   "execution_count": 55,
   "metadata": {},
   "outputs": [
    {
     "data": {
      "image/png": "[encoded data removed]",
      "text/plain": [
       "<Figure size 432x288 with 1 Axes>"
      ]
     },
     "metadata": {
      "needs_background": "light"
     },
     "output_type": "display_data"
    }
   ],
   "source": [
    "# One way to analyze your model is to look at the receiver operating characteristic (ROC) curve. \n",
    "# This shows how the true positive rate and false positive rate change as the prediction threshold changes.\n",
    "fp_rate, tp_rate, thresholds = metrics.roc_curve(y_test, y_pred_prob)\n",
    "plt.plot(fp_rate, tp_rate,linewidth=5 )\n",
    "plt.xlim([0.0, 1.0])\n",
    "plt.ylim([0.0, 1.0])\n",
    "plt.title('ROC curve for cancer cost to income ratio higher than average classifier')\n",
    "plt.xlabel('False Positive Rate (1 - Specificity)')\n",
    "plt.ylabel('True Positive Rate (Sensitivity)')\n",
    "plt.grid(True)\n"
   ]
  },
  {
   "cell_type": "markdown",
   "metadata": {},
   "source": [
    "##### AUC - percentage of the ROC plot that is under the curve"
   ]
  },
  {
   "cell_type": "code",
   "execution_count": 56,
   "metadata": {},
   "outputs": [
    {
     "name": "stdout",
     "output_type": "stream",
     "text": [
      "0.890013986013986\n"
     ]
    }
   ],
   "source": [
    "#This corresponds to the probability that the model assigns a higher probability of surviving to a random survivor than to a random passenger who died.\n",
    "#A perfect model would have AUC = 1.\n",
    "print(metrics.roc_auc_score(y_test, y_pred_prob))"
   ]
  },
  {
   "cell_type": "markdown",
   "metadata": {},
   "source": [
    "##### Analyzing predictions"
   ]
  },
  {
   "cell_type": "code",
   "execution_count": 57,
   "metadata": {},
   "outputs": [],
   "source": [
    "#Generate predictions\n",
    "y_pred = logistic_model.predict(X_test)"
   ]
  },
  {
   "cell_type": "code",
   "execution_count": 58,
   "metadata": {},
   "outputs": [
    {
     "data": {
      "image/png": "[encoded data removed]",
      "text/plain": [
       "<Figure size 432x432 with 1 Axes>"
      ]
     },
     "metadata": {
      "needs_background": "light"
     },
     "output_type": "display_data"
    }
   ],
   "source": [
    "#The predictions can be summarized using a confusion matrix.\n",
    "plot_confusion_matrix(y_test, y_pred, labels = ['Lower', 'Higher'])"
   ]
  },
  {
   "cell_type": "code",
   "execution_count": 59,
   "metadata": {},
   "outputs": [
    {
     "name": "stdout",
     "output_type": "stream",
     "text": [
      "0.8259541984732824\n"
     ]
    }
   ],
   "source": [
    "# There are a number of metrics you can use to evalute your model. \n",
    "# First is accuracy, which is the proportion of predictions which are correct.\n",
    "print(metrics.accuracy_score(y_test, y_pred))"
   ]
  },
  {
   "cell_type": "code",
   "execution_count": 60,
   "metadata": {},
   "outputs": [
    {
     "data": {
      "image/png": "[encoded data removed]",
      "text/plain": [
       "<Figure size 432x432 with 1 Axes>"
      ]
     },
     "metadata": {
      "needs_background": "light"
     },
     "output_type": "display_data"
    }
   ],
   "source": [
    "plot_confusion_matrix(y_test, y_pred, labels = ['Lower', 'Higher'], metric = 'accuracy')"
   ]
  },
  {
   "cell_type": "code",
   "execution_count": 61,
   "metadata": {},
   "outputs": [
    {
     "name": "stdout",
     "output_type": "stream",
     "text": [
      "sensitivity:\n",
      "0.9090909090909091\n"
     ]
    }
   ],
   "source": [
    "# **Sensitivity (aka recall) / True Positive Rate:** \n",
    "# The proportion of true positives (in our case, people who survived) that are identified as such.\n",
    "print('sensitivity:')\n",
    "print(metrics.recall_score(y_test, y_pred))"
   ]
  },
  {
   "cell_type": "code",
   "execution_count": 62,
   "metadata": {},
   "outputs": [
    {
     "data": {
      "image/png": "[encoded data removed]",
      "text/plain": [
       "<Figure size 432x432 with 1 Axes>"
      ]
     },
     "metadata": {
      "needs_background": "light"
     },
     "output_type": "display_data"
    }
   ],
   "source": [
    "plot_confusion_matrix(y_test, y_pred, labels = ['Lower', 'Higher'], metric = 'sensitivity')"
   ]
  },
  {
   "cell_type": "code",
   "execution_count": 63,
   "metadata": {},
   "outputs": [
    {
     "name": "stdout",
     "output_type": "stream",
     "text": [
      "specificity:\n",
      "0.9969230769230769\n"
     ]
    }
   ],
   "source": [
    "# **Specificity/True Negative Rate:** \n",
    "# The proportion of true negatives (in our case, people who died) that are identified as such.\n",
    "print('specificity:')\n",
    "print(324/(324+1))"
   ]
  },
  {
   "cell_type": "code",
   "execution_count": 64,
   "metadata": {},
   "outputs": [
    {
     "data": {
      "image/png": "[encoded data removed]",
      "text/plain": [
       "<Figure size 432x432 with 1 Axes>"
      ]
     },
     "metadata": {
      "needs_background": "light"
     },
     "output_type": "display_data"
    }
   ],
   "source": [
    "plot_confusion_matrix(y_test, y_pred, labels = ['Lower', 'Higher'], metric = 'specificity')"
   ]
  },
  {
   "cell_type": "code",
   "execution_count": 65,
   "metadata": {},
   "outputs": [
    {
     "name": "stdout",
     "output_type": "stream",
     "text": [
      "precision:\n",
      "0.78125\n"
     ]
    }
   ],
   "source": [
    "# Precision: The proportion of predicted positives that are actually positive (survived).\n",
    "print('precision:')\n",
    "print(metrics.precision_score(y_test, y_pred))"
   ]
  },
  {
   "cell_type": "code",
   "execution_count": 66,
   "metadata": {},
   "outputs": [
    {
     "data": {
      "image/png": "[encoded data removed]",
      "text/plain": [
       "<Figure size 432x432 with 1 Axes>"
      ]
     },
     "metadata": {
      "needs_background": "light"
     },
     "output_type": "display_data"
    }
   ],
   "source": [
    "plot_confusion_matrix(y_test, y_pred, labels = ['Lower', 'Higher'], metric = 'precision')"
   ]
  },
  {
   "cell_type": "markdown",
   "metadata": {},
   "source": [
    "# Week six"
   ]
  },
  {
   "cell_type": "markdown",
   "metadata": {},
   "source": [
    "#### build and evaluate a `RandomForestClassifier`"
   ]
  },
  {
   "cell_type": "code",
   "execution_count": 69,
   "metadata": {},
   "outputs": [],
   "source": [
    "import numpy as np\n",
    "from sklearn.ensemble import RandomForestClassifier\n",
    "from sklearn.tree import DecisionTreeClassifier, export_graphviz\n",
    "#import graphviz\n",
    "from IPython.display import SVG\n",
    "import warnings\n",
    "\n",
    "warnings.filterwarnings('ignore')"
   ]
  },
  {
   "cell_type": "code",
   "execution_count": 71,
   "metadata": {},
   "outputs": [
    {
     "data": {
      "text/plain": [
       "DecisionTreeClassifier()"
      ]
     },
     "execution_count": 71,
     "metadata": {},
     "output_type": "execute_result"
    }
   ],
   "source": [
    "#Building a single decision classifier tree\n",
    "tree = DecisionTreeClassifier()\n",
    "tree.fit(X_train, y_train)"
   ]
  },
  {
   "cell_type": "code",
   "execution_count": 72,
   "metadata": {},
   "outputs": [
    {
     "name": "stdout",
     "output_type": "stream",
     "text": [
      "1.0\n"
     ]
    }
   ],
   "source": [
    "#Evaluation of single decision tree: Accuracy of prediction model on training dataset \n",
    "y_pred_train = tree.predict(X_train)\n",
    "print(metrics.accuracy_score(y_train, y_pred_train))"
   ]
  },
  {
   "cell_type": "code",
   "execution_count": 73,
   "metadata": {},
   "outputs": [
    {
     "name": "stdout",
     "output_type": "stream",
     "text": [
      "0.7984732824427481\n"
     ]
    }
   ],
   "source": [
    "#Accuracy of prediction model on testing dataset\n",
    "y_pred = tree.predict(X_test)\n",
    "print(metrics.accuracy_score(y_test, y_pred))"
   ]
  },
  {
   "cell_type": "markdown",
   "metadata": {},
   "source": [
    "> The prediction model is overfitting"
   ]
  },
  {
   "cell_type": "code",
   "execution_count": 90,
   "metadata": {},
   "outputs": [
    {
     "data": {
      "text/plain": [
       "RandomForestClassifier()"
      ]
     },
     "execution_count": 90,
     "metadata": {},
     "output_type": "execute_result"
    }
   ],
   "source": [
    "#Building forest of decision trees \n",
    "forest = RandomForestClassifier()\n",
    "forest.fit(X_train, y_train)"
   ]
  },
  {
   "cell_type": "code",
   "execution_count": 91,
   "metadata": {},
   "outputs": [
    {
     "name": "stdout",
     "output_type": "stream",
     "text": [
      "1.0\n"
     ]
    }
   ],
   "source": [
    "#Accuracy on training set:\n",
    "y_pred_train = forest.predict(X_train)\n",
    "print(metrics.accuracy_score(y_train, y_pred_train))"
   ]
  },
  {
   "cell_type": "code",
   "execution_count": 92,
   "metadata": {},
   "outputs": [
    {
     "name": "stdout",
     "output_type": "stream",
     "text": [
      "0.8381679389312977\n"
     ]
    }
   ],
   "source": [
    "#Accuracy on testing set:\n",
    "y_pred = forest.predict(X_test)\n",
    "print(metrics.accuracy_score(y_test, y_pred))"
   ]
  },
  {
   "cell_type": "markdown",
   "metadata": {},
   "source": [
    "> Increased accuracy on testing dataset compared to single decision tree"
   ]
  },
  {
   "cell_type": "code",
   "execution_count": 94,
   "metadata": {},
   "outputs": [
    {
     "data": {
      "text/plain": [
       "RandomForestClassifier(max_depth=5, min_samples_leaf=5, n_estimators=1000)"
      ]
     },
     "execution_count": 94,
     "metadata": {},
     "output_type": "execute_result"
    }
   ],
   "source": [
    "#Parameters could be adjusted to build prediction model by randome forest classifier\n",
    "forest = RandomForestClassifier(n_estimators = 1000, max_depth = 5, min_samples_leaf = 5)\n",
    "forest.fit(X_train, y_train)"
   ]
  },
  {
   "cell_type": "code",
   "execution_count": 95,
   "metadata": {},
   "outputs": [
    {
     "name": "stdout",
     "output_type": "stream",
     "text": [
      "0.8716904276985743\n"
     ]
    }
   ],
   "source": [
    "#Accuracy on training set:\n",
    "y_pred_train = forest.predict(X_train)\n",
    "print(metrics.accuracy_score(y_train, y_pred_train))"
   ]
  },
  {
   "cell_type": "code",
   "execution_count": 96,
   "metadata": {},
   "outputs": [
    {
     "name": "stdout",
     "output_type": "stream",
     "text": [
      "0.8106870229007633\n"
     ]
    }
   ],
   "source": [
    "#Accuracy on testing set:\n",
    "y_pred = forest.predict(X_test)\n",
    "print(metrics.accuracy_score(y_test, y_pred))"
   ]
  },
  {
   "cell_type": "code",
   "execution_count": 97,
   "metadata": {},
   "outputs": [
    {
     "data": {
      "image/png": "[encoded data removed]",
      "text/plain": [
       "<Figure size 504x360 with 1 Axes>"
      ]
     },
     "metadata": {
      "needs_background": "light"
     },
     "output_type": "display_data"
    }
   ],
   "source": [
    "#Examine features that are most important for decision making:\n",
    "fig, ax = plt.subplots(figsize = (7,5))\n",
    "sns.barplot(x = forest.feature_importances_, y = list(X.columns), ax = ax, edgecolor = 'black')\n",
    "plt.title('Random Forest Feature Importance');"
   ]
  },
  {
   "cell_type": "code",
   "execution_count": null,
   "metadata": {},
   "outputs": [],
   "source": []
  }
 ],
 "metadata": {
  "kernelspec": {
   "display_name": "Python 3",
   "language": "python",
   "name": "python3"
  },
  "language_info": {
   "codemirror_mode": {
    "name": "ipython",
    "version": 3
   },
   "file_extension": ".py",
   "mimetype": "text/x-python",
   "name": "python",
   "nbconvert_exporter": "python",
   "pygments_lexer": "ipython3",
   "version": "3.7.3"
  }
 },
 "nbformat": 4,
 "nbformat_minor": 4
}
