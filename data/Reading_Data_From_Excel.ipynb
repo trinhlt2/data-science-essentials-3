{
 "cells": [
  {
   "cell_type": "markdown",
   "metadata": {},
   "source": [
    "Pandas makes it easy to import data from csv files. But it can also read data from a variety of formats, including Excel, SAS, SPSS, and others.\n",
    "\n",
    "In this notebook, you will see how to import data from an Excel file."
   ]
  },
  {
   "cell_type": "code",
   "execution_count": null,
   "metadata": {},
   "outputs": [],
   "source": [
    "import pandas as pd"
   ]
  },
  {
   "cell_type": "markdown",
   "metadata": {},
   "source": [
    "### Option 1: Read in with a MultiIndex\n",
    "\n",
    "\n",
    "We'll be importing from the file `2018 County Health Rankings Data - v2.xls`. \n",
    "\n",
    "When reading in an Excel file, you can specify which sheet you want to read in. Remember when using this argument that Python uses zero-based indexing. In this example, we'll import the data from the `Outcomes & Factors Rankings` sheet. To point `pandas` to the correct sheet, we can use `sheet_name = 1`.\n",
    "\n",
    "If you inspect this file in Excel, you will see that it has a header on rows 0 and 1. We need to let `pandas` know this, and we can do so by using the `header` argument and passing in the list `[0,1]`."
   ]
  },
  {
   "cell_type": "code",
   "execution_count": null,
   "metadata": {},
   "outputs": [],
   "source": [
    "health_outcomes = pd.read_excel('../data/2018 County Health Rankings Data - v2.xls', sheet_name = 1, header = [0,1])"
   ]
  },
  {
   "cell_type": "markdown",
   "metadata": {},
   "source": [
    "Take a look at what was read in."
   ]
  },
  {
   "cell_type": "code",
   "execution_count": null,
   "metadata": {},
   "outputs": [],
   "source": [
    "health_outcomes.head()"
   ]
  },
  {
   "cell_type": "markdown",
   "metadata": {},
   "source": [
    "You may notice that the column names look strange. If you check the `.columns` attribute, you'll see what happened."
   ]
  },
  {
   "cell_type": "code",
   "execution_count": null,
   "metadata": {},
   "outputs": [],
   "source": [
    "health_outcomes.columns"
   ]
  },
  {
   "cell_type": "markdown",
   "metadata": {},
   "source": [
    "Notice that since there were two rows of header, we end up with a MultiIndex.\n",
    "\n",
    "While you could leave your DataFrame with a MultiIndex, it will probably make it much easier if you collapse it down to a regular index. The next cell provides code for doing that."
   ]
  },
  {
   "cell_type": "code",
   "execution_count": null,
   "metadata": {},
   "outputs": [],
   "source": [
    "# First, combine the two column name levels\n",
    "col_names = [' '.join(col).strip() for col in health_outcomes.columns.values]\n",
    "\n",
    "# Then get rid of the \"Unnamed\" portion for the first 4 columns\n",
    "col_names[0:4] = ['FIPS', 'State', 'County', '# of Ranked Counties']"
   ]
  },
  {
   "cell_type": "markdown",
   "metadata": {},
   "source": [
    "Here is the result of the above cell."
   ]
  },
  {
   "cell_type": "code",
   "execution_count": null,
   "metadata": {},
   "outputs": [],
   "source": [
    "col_names"
   ]
  },
  {
   "cell_type": "markdown",
   "metadata": {},
   "source": [
    "Now, you can assign this new list to be the column names of your DataFrame."
   ]
  },
  {
   "cell_type": "code",
   "execution_count": null,
   "metadata": {},
   "outputs": [],
   "source": [
    "health_outcomes.columns = col_names"
   ]
  },
  {
   "cell_type": "code",
   "execution_count": null,
   "metadata": {},
   "outputs": [],
   "source": [
    "health_outcomes.head()"
   ]
  },
  {
   "cell_type": "markdown",
   "metadata": {},
   "source": [
    "If we want to merge this data with out other data, we need to conver the state names to a state abbreviation."
   ]
  },
  {
   "cell_type": "code",
   "execution_count": null,
   "metadata": {},
   "outputs": [],
   "source": [
    "state_abbrev=pd.read_csv('../data/state_abbrev.csv')"
   ]
  },
  {
   "cell_type": "code",
   "execution_count": null,
   "metadata": {},
   "outputs": [],
   "source": [
    "state_abbrev.head()"
   ]
  },
  {
   "cell_type": "markdown",
   "metadata": {},
   "source": [
    "Since the state names in our abbreviations dataset are uppercase, you will need to convert the state names from the `health_outcomes` DataFrame to uppercase as well before applying `.map`."
   ]
  },
  {
   "cell_type": "code",
   "execution_count": null,
   "metadata": {},
   "outputs": [],
   "source": [
    "health_outcomes['State']=health_outcomes.State.str.upper().map(state_abbrev.set_index('name')['abbrev'].to_dict())"
   ]
  },
  {
   "cell_type": "code",
   "execution_count": null,
   "metadata": {},
   "outputs": [],
   "source": [
    "health_outcomes.head()"
   ]
  },
  {
   "cell_type": "markdown",
   "metadata": {},
   "source": [
    "### Option 2: Read in Specific Columns\n",
    "\n",
    "Another option you have is to only read in specific columns. Let's say we want to only import the % smokers, which is column AE in the Ranked Measures Data sheet. In this case, to avoid having to deal with a MultiIndex, we'll set `header = 1` to ignore the top row of the Excel sheet.\n",
    "\n",
    "To point `pandas` to a specific set of columns, you can use the `usecols` argument. You can pass a string which specifies the columns you want, using a range of columns, or comma-separated list of columns. Here, we'll read in columns A, B, C, and AE, which we specify as \"A:C,AE\"."
   ]
  },
  {
   "cell_type": "code",
   "execution_count": null,
   "metadata": {},
   "outputs": [],
   "source": [
    "smokers = pd.read_excel('../data/2018 County Health Rankings Data - v2.xls', sheet_name = 3, header = 1, usecols = 'A:C,AE')"
   ]
  },
  {
   "cell_type": "markdown",
   "metadata": {},
   "source": [
    "Verify that it read in as expected."
   ]
  },
  {
   "cell_type": "code",
   "execution_count": null,
   "metadata": {},
   "outputs": [],
   "source": [
    "smokers.head()"
   ]
  },
  {
   "cell_type": "code",
   "execution_count": null,
   "metadata": {},
   "outputs": [],
   "source": []
  }
 ],
 "metadata": {
  "kernelspec": {
   "display_name": "Python 3",
   "language": "python",
   "name": "python3"
  },
  "language_info": {
   "codemirror_mode": {
    "name": "ipython",
    "version": 3
   },
   "file_extension": ".py",
   "mimetype": "text/x-python",
   "name": "python",
   "nbconvert_exporter": "python",
   "pygments_lexer": "ipython3",
   "version": "3.8.5"
  }
 },
 "nbformat": 4,
 "nbformat_minor": 4
}
